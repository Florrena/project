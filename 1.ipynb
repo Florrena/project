{
 "cells": [
  {
   "cell_type": "code",
   "execution_count": 25,
   "metadata": {},
   "outputs": [],
   "source": [
    "import pandas as pd\n",
    "import numpy as np\n",
    "import matplotlib as plt\n",
    "\n",
    "# Imports our data files\n",
    "data = pd.read_csv(\"steamspy_data.csv\")\n",
    "data2 = pd.read_csv(\"app_list.csv\")\n"
   ]
  },
  {
   "cell_type": "code",
   "execution_count": 26,
   "metadata": {},
   "outputs": [
    {
     "data": {
      "text/html": [
       "<div>\n",
       "<style scoped>\n",
       "    .dataframe tbody tr th:only-of-type {\n",
       "        vertical-align: middle;\n",
       "    }\n",
       "\n",
       "    .dataframe tbody tr th {\n",
       "        vertical-align: top;\n",
       "    }\n",
       "\n",
       "    .dataframe thead th {\n",
       "        text-align: right;\n",
       "    }\n",
       "</style>\n",
       "<table border=\"1\" class=\"dataframe\">\n",
       "  <thead>\n",
       "    <tr style=\"text-align: right;\">\n",
       "      <th></th>\n",
       "      <th>appid</th>\n",
       "      <th>name</th>\n",
       "      <th>developer</th>\n",
       "      <th>publisher</th>\n",
       "      <th>score_rank</th>\n",
       "      <th>positive</th>\n",
       "      <th>negative</th>\n",
       "      <th>userscore</th>\n",
       "      <th>owners</th>\n",
       "      <th>average_forever</th>\n",
       "      <th>average_2weeks</th>\n",
       "      <th>median_forever</th>\n",
       "      <th>median_2weeks</th>\n",
       "      <th>price</th>\n",
       "      <th>initialprice</th>\n",
       "      <th>discount</th>\n",
       "      <th>languages</th>\n",
       "      <th>genre</th>\n",
       "      <th>ccu</th>\n",
       "      <th>tags</th>\n",
       "    </tr>\n",
       "  </thead>\n",
       "  <tbody>\n",
       "    <tr>\n",
       "      <th>6093</th>\n",
       "      <td>367120</td>\n",
       "      <td>Seduce Me the Otome</td>\n",
       "      <td>Michaela Laws</td>\n",
       "      <td>Michaela Laws</td>\n",
       "      <td>NaN</td>\n",
       "      <td>1685</td>\n",
       "      <td>285</td>\n",
       "      <td>0</td>\n",
       "      <td>200,000 .. 500,000</td>\n",
       "      <td>75</td>\n",
       "      <td>0</td>\n",
       "      <td>77</td>\n",
       "      <td>0</td>\n",
       "      <td>0.0</td>\n",
       "      <td>0.0</td>\n",
       "      <td>0.0</td>\n",
       "      <td>English</td>\n",
       "      <td>Casual, Simulation</td>\n",
       "      <td>19</td>\n",
       "      <td>{'Free to Play': 187, 'Nudity': 153, 'Visual N...</td>\n",
       "    </tr>\n",
       "    <tr>\n",
       "      <th>17436</th>\n",
       "      <td>678930</td>\n",
       "      <td>Square Route</td>\n",
       "      <td>Battenberg Software</td>\n",
       "      <td>Battenberg Software</td>\n",
       "      <td>NaN</td>\n",
       "      <td>2</td>\n",
       "      <td>0</td>\n",
       "      <td>0</td>\n",
       "      <td>0 .. 20,000</td>\n",
       "      <td>0</td>\n",
       "      <td>0</td>\n",
       "      <td>0</td>\n",
       "      <td>0</td>\n",
       "      <td>199.0</td>\n",
       "      <td>199.0</td>\n",
       "      <td>0.0</td>\n",
       "      <td>English</td>\n",
       "      <td>Action, Casual, Indie, Strategy</td>\n",
       "      <td>0</td>\n",
       "      <td>{'Action': 22, 'Casual': 22, 'Strategy': 20, '...</td>\n",
       "    </tr>\n",
       "    <tr>\n",
       "      <th>19351</th>\n",
       "      <td>727860</td>\n",
       "      <td>Space Quiz</td>\n",
       "      <td>Little Smart Planet</td>\n",
       "      <td>Little Smart Planet</td>\n",
       "      <td>NaN</td>\n",
       "      <td>2</td>\n",
       "      <td>1</td>\n",
       "      <td>0</td>\n",
       "      <td>0 .. 20,000</td>\n",
       "      <td>0</td>\n",
       "      <td>0</td>\n",
       "      <td>0</td>\n",
       "      <td>0</td>\n",
       "      <td>399.0</td>\n",
       "      <td>399.0</td>\n",
       "      <td>0.0</td>\n",
       "      <td>English, Spanish - Spain</td>\n",
       "      <td>Casual, Indie, Massively Multiplayer, Strategy</td>\n",
       "      <td>0</td>\n",
       "      <td>{'Casual': 22, 'Strategy': 20, 'Massively Mult...</td>\n",
       "    </tr>\n",
       "    <tr>\n",
       "      <th>5668</th>\n",
       "      <td>357310</td>\n",
       "      <td>Oriental Empires</td>\n",
       "      <td>Shining Pixel Studios</td>\n",
       "      <td>Iceberg Interactive</td>\n",
       "      <td>NaN</td>\n",
       "      <td>1229</td>\n",
       "      <td>340</td>\n",
       "      <td>0</td>\n",
       "      <td>50,000 .. 100,000</td>\n",
       "      <td>0</td>\n",
       "      <td>0</td>\n",
       "      <td>0</td>\n",
       "      <td>0</td>\n",
       "      <td>2999.0</td>\n",
       "      <td>2999.0</td>\n",
       "      <td>0.0</td>\n",
       "      <td>English, Simplified Chinese, French, German, R...</td>\n",
       "      <td>Indie, Simulation, Strategy</td>\n",
       "      <td>75</td>\n",
       "      <td>{'Strategy': 81, 'Simulation': 64, 'Historical...</td>\n",
       "    </tr>\n",
       "    <tr>\n",
       "      <th>26612</th>\n",
       "      <td>939000</td>\n",
       "      <td>Crisis VRigade</td>\n",
       "      <td>Sumalab</td>\n",
       "      <td>Sumalab</td>\n",
       "      <td>NaN</td>\n",
       "      <td>72</td>\n",
       "      <td>14</td>\n",
       "      <td>0</td>\n",
       "      <td>0 .. 20,000</td>\n",
       "      <td>0</td>\n",
       "      <td>0</td>\n",
       "      <td>0</td>\n",
       "      <td>0</td>\n",
       "      <td>599.0</td>\n",
       "      <td>599.0</td>\n",
       "      <td>0.0</td>\n",
       "      <td>English</td>\n",
       "      <td>Action, Casual, Indie, Early Access</td>\n",
       "      <td>1</td>\n",
       "      <td>{'Early Access': 31, 'Action': 31, 'Indie': 31...</td>\n",
       "    </tr>\n",
       "  </tbody>\n",
       "</table>\n",
       "</div>"
      ],
      "text/plain": [
       "        appid                 name              developer  \\\n",
       "6093   367120  Seduce Me the Otome          Michaela Laws   \n",
       "17436  678930         Square Route    Battenberg Software   \n",
       "19351  727860           Space Quiz    Little Smart Planet   \n",
       "5668   357310     Oriental Empires  Shining Pixel Studios   \n",
       "26612  939000       Crisis VRigade                Sumalab   \n",
       "\n",
       "                 publisher  score_rank  positive  negative  userscore  \\\n",
       "6093         Michaela Laws         NaN      1685       285          0   \n",
       "17436  Battenberg Software         NaN         2         0          0   \n",
       "19351  Little Smart Planet         NaN         2         1          0   \n",
       "5668   Iceberg Interactive         NaN      1229       340          0   \n",
       "26612              Sumalab         NaN        72        14          0   \n",
       "\n",
       "                   owners  average_forever  average_2weeks  median_forever  \\\n",
       "6093   200,000 .. 500,000               75               0              77   \n",
       "17436         0 .. 20,000                0               0               0   \n",
       "19351         0 .. 20,000                0               0               0   \n",
       "5668    50,000 .. 100,000                0               0               0   \n",
       "26612         0 .. 20,000                0               0               0   \n",
       "\n",
       "       median_2weeks   price  initialprice  discount  \\\n",
       "6093               0     0.0           0.0       0.0   \n",
       "17436              0   199.0         199.0       0.0   \n",
       "19351              0   399.0         399.0       0.0   \n",
       "5668               0  2999.0        2999.0       0.0   \n",
       "26612              0   599.0         599.0       0.0   \n",
       "\n",
       "                                               languages  \\\n",
       "6093                                             English   \n",
       "17436                                            English   \n",
       "19351                           English, Spanish - Spain   \n",
       "5668   English, Simplified Chinese, French, German, R...   \n",
       "26612                                            English   \n",
       "\n",
       "                                                genre  ccu  \\\n",
       "6093                               Casual, Simulation   19   \n",
       "17436                 Action, Casual, Indie, Strategy    0   \n",
       "19351  Casual, Indie, Massively Multiplayer, Strategy    0   \n",
       "5668                      Indie, Simulation, Strategy   75   \n",
       "26612             Action, Casual, Indie, Early Access    1   \n",
       "\n",
       "                                                    tags  \n",
       "6093   {'Free to Play': 187, 'Nudity': 153, 'Visual N...  \n",
       "17436  {'Action': 22, 'Casual': 22, 'Strategy': 20, '...  \n",
       "19351  {'Casual': 22, 'Strategy': 20, 'Massively Mult...  \n",
       "5668   {'Strategy': 81, 'Simulation': 64, 'Historical...  \n",
       "26612  {'Early Access': 31, 'Action': 31, 'Indie': 31...  "
      ]
     },
     "execution_count": 26,
     "metadata": {},
     "output_type": "execute_result"
    }
   ],
   "source": [
    "# Prints 5 random samples\n",
    "sample=data.sample(5)\n",
    "sample"
   ]
  },
  {
   "cell_type": "code",
   "execution_count": 27,
   "metadata": {},
   "outputs": [
    {
     "data": {
      "text/plain": [
       "(29235, 20)"
      ]
     },
     "execution_count": 27,
     "metadata": {},
     "output_type": "execute_result"
    }
   ],
   "source": [
    "# Checks how big our data is (columns, rows)\n",
    "data.shape"
   ]
  },
  {
   "cell_type": "code",
   "execution_count": 28,
   "metadata": {},
   "outputs": [
    {
     "data": {
      "text/plain": [
       "Index(['appid', 'name', 'developer', 'publisher', 'score_rank', 'positive',\n",
       "       'negative', 'userscore', 'owners', 'average_forever', 'average_2weeks',\n",
       "       'median_forever', 'median_2weeks', 'price', 'initialprice', 'discount',\n",
       "       'languages', 'genre', 'ccu', 'tags'],\n",
       "      dtype='object')"
      ]
     },
     "execution_count": 28,
     "metadata": {},
     "output_type": "execute_result"
    }
   ],
   "source": [
    "# Shows column names\n",
    "data.columns"
   ]
  },
  {
   "cell_type": "code",
   "execution_count": 30,
   "metadata": {},
   "outputs": [
    {
     "data": {
      "text/plain": [
       "array([[10, 'Counter-Strike', 'Valve', ..., 'Action', 14923,\n",
       "        '{\\'Action\\': 2681, \\'FPS\\': 2048, \\'Multiplayer\\': 1659, \\'Shooter\\': 1420, \\'Classic\\': 1344, \\'Team-Based\\': 943, \\'First-Person\\': 799, \\'Competitive\\': 790, \\'Tactical\\': 734, \"1990\\'s\": 564, \\'e-sports\\': 550, \\'PvP\\': 480, \\'Military\\': 367, \\'Strategy\\': 329, \\'Score Attack\\': 200, \\'Survival\\': 192, \\'Old School\\': 164, \\'Assassin\\': 151, \\'1980s\\': 144, \\'Violent\\': 40}'],\n",
       "       [20, 'Team Fortress Classic', 'Valve', ..., 'Action', 87,\n",
       "        '{\\'Action\\': 208, \\'FPS\\': 188, \\'Multiplayer\\': 172, \\'Classic\\': 152, \\'Shooter\\': 134, \\'Class-Based\\': 124, \\'Team-Based\\': 115, \\'First-Person\\': 109, \"1990\\'s\": 71, \\'Co-op\\': 62, \\'Competitive\\': 48, \\'Old School\\': 46, \\'Fast-Paced\\': 39, \\'Online Co-Op\\': 28, \\'Retro\\': 27, \\'Remake\\': 27, \\'Violent\\': 26, \\'Mod\\': 24, \\'Funny\\': 20, \\'Adventure\\': 15}'],\n",
       "       [30, 'Day of Defeat', 'Valve', ..., 'Action', 130,\n",
       "        \"{'FPS': 138, 'World War II': 122, 'Multiplayer': 115, 'Action': 99, 'Shooter': 95, 'War': 80, 'Team-Based': 79, 'Classic': 61, 'Class-Based': 55, 'First-Person': 50, 'Historical': 28, 'Military': 19, 'Singleplayer': 16, 'Tactical': 14, 'Co-op': 12, 'World War I': 5}\"],\n",
       "       ...,\n",
       "       [1065650, 'Super Star Blast', 'EntwicklerX', ...,\n",
       "        'Action, Casual, Indie', 0,\n",
       "        \"{'Action': 21, 'Indie': 21, 'Casual': 21}\"],\n",
       "       [1066700, 'New Yankee 7: Deer Hunters', 'Yustas Game Studio', ...,\n",
       "        'Adventure, Casual, Indie', 1,\n",
       "        \"{'Indie': 21, 'Casual': 21, 'Adventure': 20}\"],\n",
       "       [1069460, 'Rune Lord', 'Adept Studios GD', ...,\n",
       "        'Adventure, Casual, Indie', 4,\n",
       "        \"{'Indie': 21, 'Casual': 21, 'Adventure': 20}\"]], dtype=object)"
      ]
     },
     "execution_count": 30,
     "metadata": {},
     "output_type": "execute_result"
    }
   ],
   "source": [
    "data.values"
   ]
  },
  {
   "cell_type": "code",
   "execution_count": 31,
   "metadata": {},
   "outputs": [
    {
     "name": "stdout",
     "output_type": "stream",
     "text": [
      "<class 'pandas.core.frame.DataFrame'>\n",
      "RangeIndex: 29235 entries, 0 to 29234\n",
      "Data columns (total 17 columns):\n",
      " #   Column           Non-Null Count  Dtype  \n",
      "---  ------           --------------  -----  \n",
      " 0   appid            29235 non-null  int64  \n",
      " 1   name             29230 non-null  object \n",
      " 2   developer        29037 non-null  object \n",
      " 3   publisher        28939 non-null  object \n",
      " 4   score_rank       58 non-null     float64\n",
      " 5   positive         29235 non-null  int64  \n",
      " 6   negative         29235 non-null  int64  \n",
      " 7   owners           29235 non-null  object \n",
      " 8   average_forever  29235 non-null  int64  \n",
      " 9   median_forever   29235 non-null  int64  \n",
      " 10  price            29206 non-null  float64\n",
      " 11  initialprice     29213 non-null  float64\n",
      " 12  discount         29213 non-null  float64\n",
      " 13  languages        29141 non-null  object \n",
      " 14  genre            29083 non-null  object \n",
      " 15  ccu              29235 non-null  int64  \n",
      " 16  tags             29235 non-null  object \n",
      "dtypes: float64(4), int64(6), object(7)\n",
      "memory usage: 3.8+ MB\n"
     ]
    }
   ],
   "source": [
    "# Shows info about our columns\n",
    "data.info()"
   ]
  },
  {
   "cell_type": "code",
   "execution_count": 29,
   "metadata": {},
   "outputs": [],
   "source": [
    "# Deletes median_2weeks, average_2weeks and userscore\n",
    "del data['median_2weeks']\n",
    "del data['average_2weeks']\n",
    "del data['userscore']"
   ]
  },
  {
   "cell_type": "code",
   "execution_count": 32,
   "metadata": {},
   "outputs": [
    {
     "name": "stdout",
     "output_type": "stream",
     "text": [
      "The percent of data missing is: 5.12998118693347 %\n",
      "Amount of non null columns:  58\n"
     ]
    }
   ],
   "source": [
    "# Prints the percentage of missing data\n",
    "missing_count = data.isnull().sum()\n",
    "\n",
    "total_data=np.product(data.shape)\n",
    "total_missing=missing_count.sum()\n",
    "per_of_missing_data=(total_missing/total_data)* 100\n",
    "print(\"The percent of data missing is:\" ,per_of_missing_data,\"%\")\n",
    "\n",
    "\n",
    "# Checks the non null values in column score_rank\n",
    "NotNullValues = data[\"score_rank\"].notnull()\n",
    "ColumnSR = data.loc[NotNullValues,\"score_rank\"]\n",
    "print(\"Amount of non null columns: \", len(ColumnSR))\n",
    "#print(ColumnSR)\n",
    "del data['score_rank']\n"
   ]
  },
  {
   "cell_type": "code",
   "execution_count": 33,
   "metadata": {},
   "outputs": [
    {
     "data": {
      "text/plain": [
       "0        False\n",
       "1        False\n",
       "2        False\n",
       "3        False\n",
       "4        False\n",
       "         ...  \n",
       "29230    False\n",
       "29231    False\n",
       "29232    False\n",
       "29233    False\n",
       "29234    False\n",
       "Length: 29235, dtype: bool"
      ]
     },
     "execution_count": 33,
     "metadata": {},
     "output_type": "execute_result"
    }
   ],
   "source": [
    "#Checks for duplicate data\n",
    "dups = data.duplicated()\n",
    "dups"
   ]
  },
  {
   "cell_type": "code",
   "execution_count": 34,
   "metadata": {},
   "outputs": [
    {
     "name": "stdout",
     "output_type": "stream",
     "text": [
      "Number of duplicate rows: 0\n"
     ]
    }
   ],
   "source": [
    "# Prints number of duplicate rows\n",
    "duplicates = data.duplicated()\n",
    "num_duplicates = duplicates.sum()\n",
    "print(f\"Number of duplicate rows: {num_duplicates}\")\n"
   ]
  },
  {
   "cell_type": "markdown",
   "metadata": {},
   "source": [
    "# Nominal Attribute\n",
    "# Selected 'name', 'developer', 'publisher', 'genre', 'languages' as nominal attributes.\n",
    "# These columns represent categorical information without a specific order, essential for categorization and grouping."
   ]
  },
  {
   "cell_type": "code",
   "execution_count": 35,
   "metadata": {},
   "outputs": [
    {
     "name": "stdout",
     "output_type": "stream",
     "text": [
      "Nominal Attributes:\n",
      "                             name           developer             publisher  \\\n",
      "0                  Counter-Strike               Valve                 Valve   \n",
      "1           Team Fortress Classic               Valve                 Valve   \n",
      "2                   Day of Defeat               Valve                 Valve   \n",
      "3              Deathmatch Classic               Valve                 Valve   \n",
      "4       Half-Life: Opposing Force    Gearbox Software                 Valve   \n",
      "...                           ...                 ...                   ...   \n",
      "29230             Room of Pandora         SHEN JIAWEI           SHEN JIAWEI   \n",
      "29231                   Cyber Gun      Semyon Maximov      BekkerDev Studio   \n",
      "29232            Super Star Blast         EntwicklerX           EntwicklerX   \n",
      "29233  New Yankee 7: Deer Hunters  Yustas Game Studio  Alawar Entertainment   \n",
      "29234                   Rune Lord    Adept Studios GD  Alawar Entertainment   \n",
      "\n",
      "                          genre  \\\n",
      "0                        Action   \n",
      "1                        Action   \n",
      "2                        Action   \n",
      "3                        Action   \n",
      "4                        Action   \n",
      "...                         ...   \n",
      "29230  Adventure, Casual, Indie   \n",
      "29231  Action, Adventure, Indie   \n",
      "29232     Action, Casual, Indie   \n",
      "29233  Adventure, Casual, Indie   \n",
      "29234  Adventure, Casual, Indie   \n",
      "\n",
      "                                               languages  \n",
      "0      English, French, German, Italian, Spanish - Sp...  \n",
      "1      English, French, German, Italian, Spanish - Sp...  \n",
      "2      English, French, German, Italian, Spanish - Spain  \n",
      "3      English, French, German, Italian, Spanish - Sp...  \n",
      "4                        English, French, German, Korean  \n",
      "...                                                  ...  \n",
      "29230  English, Japanese, Simplified Chinese, Traditi...  \n",
      "29231                                            English  \n",
      "29232                                            English  \n",
      "29233                   English, German, Korean, Russian  \n",
      "29234  English, French, Italian, German, Spanish - Sp...  \n",
      "\n",
      "[29235 rows x 5 columns]\n"
     ]
    }
   ],
   "source": [
    "# Assuming 'name', 'developer', 'publisher', 'genre', 'languages' columns are nominal attributes\n",
    "nominal_attributes_values = data[['name', 'developer', 'publisher', 'genre', 'languages']]\n",
    "print(\"Nominal Attributes:\")\n",
    "print(nominal_attributes_values)"
   ]
  },
  {
   "cell_type": "markdown",
   "metadata": {},
   "source": [
    "# Binary Attribute\n",
    "# 'price' is selected for 'free_game' as it follows industry standards, where a price of 0 indicates a free game. \n",
    "# This simplifies the classification, aiding in analyzing game pricing trends and user preferences."
   ]
  },
  {
   "cell_type": "code",
   "execution_count": 36,
   "metadata": {},
   "outputs": [
    {
     "name": "stdout",
     "output_type": "stream",
     "text": [
      "Binary Attribute Unique Values:\n",
      "\n",
      "Number of Non-Free Games (Class 0): 25583\n",
      "Number of Free Games (Class 1): 3652\n"
     ]
    }
   ],
   "source": [
    "# Assuming 'price' column is used to create a binary attribute for free games\n",
    "data['free_game'] = data['price'].apply(lambda x: 1 if x == 0 else 0)\n",
    "\n",
    "# Print the unique values in the binary attribute\n",
    "unique_values = data['free_game'].unique()\n",
    "print(\"Binary Attribute Unique Values:\")\n",
    "\n",
    "# Count the number of free and non-free games\n",
    "free_game_counts = data['free_game'].value_counts()\n",
    "\n",
    "# Print the result\n",
    "print(\"\\nNumber of Non-Free Games (Class 0):\", free_game_counts[0])\n",
    "print(\"Number of Free Games (Class 1):\", free_game_counts[1])"
   ]
  }
 ],
 "metadata": {
  "kernelspec": {
   "display_name": "Python 3",
   "language": "python",
   "name": "python3"
  },
  "language_info": {
   "codemirror_mode": {
    "name": "ipython",
    "version": 3
   },
   "file_extension": ".py",
   "mimetype": "text/x-python",
   "name": "python",
   "nbconvert_exporter": "python",
   "pygments_lexer": "ipython3",
   "version": "3.11.5"
  }
 },
 "nbformat": 4,
 "nbformat_minor": 2
}
