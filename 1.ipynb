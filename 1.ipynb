{
 "cells": [
  {
   "cell_type": "code",
   "execution_count": 2,
   "metadata": {},
   "outputs": [],
   "source": [
    "import pandas as pd\n",
    "import matplotlib as plt\n",
    "\n",
    "#Imports our data files\n",
    "data = pd.read_csv(\"steamspy_data.csv\")\n",
    "data2 = pd.read_csv(\"app_list.csv\")\n",
    "\n",
    "#Check how big our data is (columns, rows)\n",
    "data.shape\n",
    "#Prints the first 5 entries of our data\n",
    "#data.head(5)\n",
    "\n",
    "# check the not null values in column score_rank\n",
    "b = data[\"score_rank\"].notnull()\n",
    "a = data.loc[b,\"score_rank\"]\n",
    "print(\"amount of non null columns: \", len(a))\n",
    "print(a)"
   ]
  }
 ],
 "metadata": {
  "kernelspec": {
   "display_name": "Python 3",
   "language": "python",
   "name": "python3"
  },
  "language_info": {
   "codemirror_mode": {
    "name": "ipython",
    "version": 3
   },
   "file_extension": ".py",
   "mimetype": "text/x-python",
   "name": "python",
   "nbconvert_exporter": "python",
   "pygments_lexer": "ipython3",
   "version": "3.8.2"
  }
 },
 "nbformat": 4,
 "nbformat_minor": 2
}
