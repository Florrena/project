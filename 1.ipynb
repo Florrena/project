{
 "cells": [
  {
   "cell_type": "code",
   "execution_count": 117,
   "metadata": {},
   "outputs": [],
   "source": [
    "import pandas as pd\n",
    "import numpy as np\n",
    "import matplotlib as plt\n",
    "\n",
    "# Imports our data files\n",
    "data = pd.read_csv(\"steamspy_data.csv\")\n",
    "data2 = pd.read_csv(\"app_list.csv\")\n"
   ]
  },
  {
   "cell_type": "code",
   "execution_count": 118,
   "metadata": {},
   "outputs": [
    {
     "data": {
      "text/html": [
       "<div>\n",
       "<style scoped>\n",
       "    .dataframe tbody tr th:only-of-type {\n",
       "        vertical-align: middle;\n",
       "    }\n",
       "\n",
       "    .dataframe tbody tr th {\n",
       "        vertical-align: top;\n",
       "    }\n",
       "\n",
       "    .dataframe thead th {\n",
       "        text-align: right;\n",
       "    }\n",
       "</style>\n",
       "<table border=\"1\" class=\"dataframe\">\n",
       "  <thead>\n",
       "    <tr style=\"text-align: right;\">\n",
       "      <th></th>\n",
       "      <th>appid</th>\n",
       "      <th>name</th>\n",
       "      <th>developer</th>\n",
       "      <th>publisher</th>\n",
       "      <th>score_rank</th>\n",
       "      <th>positive</th>\n",
       "      <th>negative</th>\n",
       "      <th>userscore</th>\n",
       "      <th>owners</th>\n",
       "      <th>average_forever</th>\n",
       "      <th>average_2weeks</th>\n",
       "      <th>median_forever</th>\n",
       "      <th>median_2weeks</th>\n",
       "      <th>price</th>\n",
       "      <th>initialprice</th>\n",
       "      <th>discount</th>\n",
       "      <th>languages</th>\n",
       "      <th>genre</th>\n",
       "      <th>ccu</th>\n",
       "      <th>tags</th>\n",
       "    </tr>\n",
       "  </thead>\n",
       "  <tbody>\n",
       "    <tr>\n",
       "      <th>23923</th>\n",
       "      <td>854890</td>\n",
       "      <td>International Basketball Manager</td>\n",
       "      <td>U-Play Online</td>\n",
       "      <td>U-Play Online</td>\n",
       "      <td>NaN</td>\n",
       "      <td>22</td>\n",
       "      <td>6</td>\n",
       "      <td>0</td>\n",
       "      <td>0 .. 20,000</td>\n",
       "      <td>0</td>\n",
       "      <td>0</td>\n",
       "      <td>0</td>\n",
       "      <td>0</td>\n",
       "      <td>999.0</td>\n",
       "      <td>999.0</td>\n",
       "      <td>0.0</td>\n",
       "      <td>English, Spanish - Spain</td>\n",
       "      <td>Indie, Sports, Strategy, Early Access</td>\n",
       "      <td>0</td>\n",
       "      <td>{'Early Access': 21, 'Sports': 23, 'Strategy':...</td>\n",
       "    </tr>\n",
       "    <tr>\n",
       "      <th>9080</th>\n",
       "      <td>448350</td>\n",
       "      <td>Case #8</td>\n",
       "      <td>Peace</td>\n",
       "      <td>Peace</td>\n",
       "      <td>NaN</td>\n",
       "      <td>112</td>\n",
       "      <td>78</td>\n",
       "      <td>0</td>\n",
       "      <td>100,000 .. 200,000</td>\n",
       "      <td>193</td>\n",
       "      <td>0</td>\n",
       "      <td>204</td>\n",
       "      <td>0</td>\n",
       "      <td>399.0</td>\n",
       "      <td>399.0</td>\n",
       "      <td>0.0</td>\n",
       "      <td>English, Russian, Turkish, Czech</td>\n",
       "      <td>Adventure, Indie</td>\n",
       "      <td>0</td>\n",
       "      <td>{'Adventure': 35, 'Indie': 25, 'Horror': 16}</td>\n",
       "    </tr>\n",
       "    <tr>\n",
       "      <th>14751</th>\n",
       "      <td>601650</td>\n",
       "      <td>My Name is You</td>\n",
       "      <td>Nikita Kaf</td>\n",
       "      <td>Siberian Digital</td>\n",
       "      <td>NaN</td>\n",
       "      <td>335</td>\n",
       "      <td>85</td>\n",
       "      <td>0</td>\n",
       "      <td>100,000 .. 200,000</td>\n",
       "      <td>267</td>\n",
       "      <td>0</td>\n",
       "      <td>305</td>\n",
       "      <td>0</td>\n",
       "      <td>399.0</td>\n",
       "      <td>399.0</td>\n",
       "      <td>0.0</td>\n",
       "      <td>English, Russian</td>\n",
       "      <td>Indie</td>\n",
       "      <td>94</td>\n",
       "      <td>{'Indie': 35, 'Visual Novel': 17, 'Atmospheric...</td>\n",
       "    </tr>\n",
       "    <tr>\n",
       "      <th>3215</th>\n",
       "      <td>287020</td>\n",
       "      <td>Harvester</td>\n",
       "      <td>DigiFX Interactive</td>\n",
       "      <td>Nightdive Studios</td>\n",
       "      <td>NaN</td>\n",
       "      <td>571</td>\n",
       "      <td>54</td>\n",
       "      <td>0</td>\n",
       "      <td>50,000 .. 100,000</td>\n",
       "      <td>6</td>\n",
       "      <td>0</td>\n",
       "      <td>6</td>\n",
       "      <td>0</td>\n",
       "      <td>599.0</td>\n",
       "      <td>599.0</td>\n",
       "      <td>0.0</td>\n",
       "      <td>English, French, Spanish - Spain</td>\n",
       "      <td>Adventure</td>\n",
       "      <td>2</td>\n",
       "      <td>{'Horror': 71, 'Adventure': 69, 'FMV': 61, 'Po...</td>\n",
       "    </tr>\n",
       "    <tr>\n",
       "      <th>6626</th>\n",
       "      <td>380950</td>\n",
       "      <td>Bocce Revolution</td>\n",
       "      <td>Dysotek</td>\n",
       "      <td>Dysotek</td>\n",
       "      <td>NaN</td>\n",
       "      <td>15</td>\n",
       "      <td>4</td>\n",
       "      <td>0</td>\n",
       "      <td>0 .. 20,000</td>\n",
       "      <td>0</td>\n",
       "      <td>0</td>\n",
       "      <td>0</td>\n",
       "      <td>0</td>\n",
       "      <td>999.0</td>\n",
       "      <td>999.0</td>\n",
       "      <td>0.0</td>\n",
       "      <td>English, French, Italian, Spanish - Spain, Por...</td>\n",
       "      <td>Simulation, Sports</td>\n",
       "      <td>0</td>\n",
       "      <td>{'Sports': 27, 'Simulation': 24, 'Indie': 10}</td>\n",
       "    </tr>\n",
       "  </tbody>\n",
       "</table>\n",
       "</div>"
      ],
      "text/plain": [
       "        appid                              name           developer  \\\n",
       "23923  854890  International Basketball Manager       U-Play Online   \n",
       "9080   448350                           Case #8               Peace   \n",
       "14751  601650                    My Name is You          Nikita Kaf   \n",
       "3215   287020                         Harvester  DigiFX Interactive   \n",
       "6626   380950                  Bocce Revolution             Dysotek   \n",
       "\n",
       "               publisher  score_rank  positive  negative  userscore  \\\n",
       "23923      U-Play Online         NaN        22         6          0   \n",
       "9080               Peace         NaN       112        78          0   \n",
       "14751   Siberian Digital         NaN       335        85          0   \n",
       "3215   Nightdive Studios         NaN       571        54          0   \n",
       "6626             Dysotek         NaN        15         4          0   \n",
       "\n",
       "                   owners  average_forever  average_2weeks  median_forever  \\\n",
       "23923         0 .. 20,000                0               0               0   \n",
       "9080   100,000 .. 200,000              193               0             204   \n",
       "14751  100,000 .. 200,000              267               0             305   \n",
       "3215    50,000 .. 100,000                6               0               6   \n",
       "6626          0 .. 20,000                0               0               0   \n",
       "\n",
       "       median_2weeks  price  initialprice  discount  \\\n",
       "23923              0  999.0         999.0       0.0   \n",
       "9080               0  399.0         399.0       0.0   \n",
       "14751              0  399.0         399.0       0.0   \n",
       "3215               0  599.0         599.0       0.0   \n",
       "6626               0  999.0         999.0       0.0   \n",
       "\n",
       "                                               languages  \\\n",
       "23923                           English, Spanish - Spain   \n",
       "9080                    English, Russian, Turkish, Czech   \n",
       "14751                                   English, Russian   \n",
       "3215                    English, French, Spanish - Spain   \n",
       "6626   English, French, Italian, Spanish - Spain, Por...   \n",
       "\n",
       "                                       genre  ccu  \\\n",
       "23923  Indie, Sports, Strategy, Early Access    0   \n",
       "9080                        Adventure, Indie    0   \n",
       "14751                                  Indie   94   \n",
       "3215                               Adventure    2   \n",
       "6626                      Simulation, Sports    0   \n",
       "\n",
       "                                                    tags  \n",
       "23923  {'Early Access': 21, 'Sports': 23, 'Strategy':...  \n",
       "9080        {'Adventure': 35, 'Indie': 25, 'Horror': 16}  \n",
       "14751  {'Indie': 35, 'Visual Novel': 17, 'Atmospheric...  \n",
       "3215   {'Horror': 71, 'Adventure': 69, 'FMV': 61, 'Po...  \n",
       "6626       {'Sports': 27, 'Simulation': 24, 'Indie': 10}  "
      ]
     },
     "execution_count": 118,
     "metadata": {},
     "output_type": "execute_result"
    }
   ],
   "source": [
    "# Prints 5 random samples\n",
    "sample=data.sample(5)\n",
    "sample"
   ]
  },
  {
   "cell_type": "code",
   "execution_count": 119,
   "metadata": {},
   "outputs": [
    {
     "data": {
      "text/plain": [
       "(29235, 20)"
      ]
     },
     "execution_count": 119,
     "metadata": {},
     "output_type": "execute_result"
    }
   ],
   "source": [
    "# Checks how big our data is (columns, rows)\n",
    "data.shape"
   ]
  },
  {
   "cell_type": "code",
   "execution_count": 120,
   "metadata": {},
   "outputs": [
    {
     "data": {
      "text/plain": [
       "Index(['appid', 'name', 'developer', 'publisher', 'score_rank', 'positive',\n",
       "       'negative', 'userscore', 'owners', 'average_forever', 'average_2weeks',\n",
       "       'median_forever', 'median_2weeks', 'price', 'initialprice', 'discount',\n",
       "       'languages', 'genre', 'ccu', 'tags'],\n",
       "      dtype='object')"
      ]
     },
     "execution_count": 120,
     "metadata": {},
     "output_type": "execute_result"
    }
   ],
   "source": [
    "# Shows column names\n",
    "data.columns"
   ]
  },
  {
   "cell_type": "code",
   "execution_count": 121,
   "metadata": {},
   "outputs": [
    {
     "data": {
      "text/plain": [
       "array([[10, 'Counter-Strike', 'Valve', ..., 'Action', 14923,\n",
       "        '{\\'Action\\': 2681, \\'FPS\\': 2048, \\'Multiplayer\\': 1659, \\'Shooter\\': 1420, \\'Classic\\': 1344, \\'Team-Based\\': 943, \\'First-Person\\': 799, \\'Competitive\\': 790, \\'Tactical\\': 734, \"1990\\'s\": 564, \\'e-sports\\': 550, \\'PvP\\': 480, \\'Military\\': 367, \\'Strategy\\': 329, \\'Score Attack\\': 200, \\'Survival\\': 192, \\'Old School\\': 164, \\'Assassin\\': 151, \\'1980s\\': 144, \\'Violent\\': 40}'],\n",
       "       [20, 'Team Fortress Classic', 'Valve', ..., 'Action', 87,\n",
       "        '{\\'Action\\': 208, \\'FPS\\': 188, \\'Multiplayer\\': 172, \\'Classic\\': 152, \\'Shooter\\': 134, \\'Class-Based\\': 124, \\'Team-Based\\': 115, \\'First-Person\\': 109, \"1990\\'s\": 71, \\'Co-op\\': 62, \\'Competitive\\': 48, \\'Old School\\': 46, \\'Fast-Paced\\': 39, \\'Online Co-Op\\': 28, \\'Retro\\': 27, \\'Remake\\': 27, \\'Violent\\': 26, \\'Mod\\': 24, \\'Funny\\': 20, \\'Adventure\\': 15}'],\n",
       "       [30, 'Day of Defeat', 'Valve', ..., 'Action', 130,\n",
       "        \"{'FPS': 138, 'World War II': 122, 'Multiplayer': 115, 'Action': 99, 'Shooter': 95, 'War': 80, 'Team-Based': 79, 'Classic': 61, 'Class-Based': 55, 'First-Person': 50, 'Historical': 28, 'Military': 19, 'Singleplayer': 16, 'Tactical': 14, 'Co-op': 12, 'World War I': 5}\"],\n",
       "       ...,\n",
       "       [1065650, 'Super Star Blast', 'EntwicklerX', ...,\n",
       "        'Action, Casual, Indie', 0,\n",
       "        \"{'Action': 21, 'Indie': 21, 'Casual': 21}\"],\n",
       "       [1066700, 'New Yankee 7: Deer Hunters', 'Yustas Game Studio', ...,\n",
       "        'Adventure, Casual, Indie', 1,\n",
       "        \"{'Indie': 21, 'Casual': 21, 'Adventure': 20}\"],\n",
       "       [1069460, 'Rune Lord', 'Adept Studios GD', ...,\n",
       "        'Adventure, Casual, Indie', 4,\n",
       "        \"{'Indie': 21, 'Casual': 21, 'Adventure': 20}\"]], dtype=object)"
      ]
     },
     "execution_count": 121,
     "metadata": {},
     "output_type": "execute_result"
    }
   ],
   "source": [
    "data.values"
   ]
  },
  {
   "cell_type": "code",
   "execution_count": 122,
   "metadata": {},
   "outputs": [
    {
     "name": "stdout",
     "output_type": "stream",
     "text": [
      "<class 'pandas.core.frame.DataFrame'>\n",
      "RangeIndex: 29235 entries, 0 to 29234\n",
      "Data columns (total 20 columns):\n",
      " #   Column           Non-Null Count  Dtype  \n",
      "---  ------           --------------  -----  \n",
      " 0   appid            29235 non-null  int64  \n",
      " 1   name             29230 non-null  object \n",
      " 2   developer        29037 non-null  object \n",
      " 3   publisher        28939 non-null  object \n",
      " 4   score_rank       58 non-null     float64\n",
      " 5   positive         29235 non-null  int64  \n",
      " 6   negative         29235 non-null  int64  \n",
      " 7   userscore        29235 non-null  int64  \n",
      " 8   owners           29235 non-null  object \n",
      " 9   average_forever  29235 non-null  int64  \n",
      " 10  average_2weeks   29235 non-null  int64  \n",
      " 11  median_forever   29235 non-null  int64  \n",
      " 12  median_2weeks    29235 non-null  int64  \n",
      " 13  price            29206 non-null  float64\n",
      " 14  initialprice     29213 non-null  float64\n",
      " 15  discount         29213 non-null  float64\n",
      " 16  languages        29141 non-null  object \n",
      " 17  genre            29083 non-null  object \n",
      " 18  ccu              29235 non-null  int64  \n",
      " 19  tags             29235 non-null  object \n",
      "dtypes: float64(4), int64(9), object(7)\n",
      "memory usage: 4.5+ MB\n"
     ]
    }
   ],
   "source": [
    "# Shows info about our columns\n",
    "data.info()"
   ]
  },
  {
   "cell_type": "code",
   "execution_count": 123,
   "metadata": {},
   "outputs": [],
   "source": [
    "# Deletes median_2weeks, average_2weeks and userscore\n",
    "del data['median_2weeks']\n",
    "del data['average_2weeks']\n",
    "del data['userscore']"
   ]
  },
  {
   "cell_type": "code",
   "execution_count": 124,
   "metadata": {},
   "outputs": [
    {
     "name": "stdout",
     "output_type": "stream",
     "text": [
      "The percent of data missing is: 6.035271984627612 %\n",
      "Amount of non null columns:  58\n"
     ]
    }
   ],
   "source": [
    "# Prints the percentage of missing data\n",
    "missing_count = data.isnull().sum()\n",
    "\n",
    "total_data=np.product(data.shape)\n",
    "total_missing=missing_count.sum()\n",
    "per_of_missing_data=(total_missing/total_data)* 100\n",
    "print(\"The percent of data missing is:\" ,per_of_missing_data,\"%\")\n",
    "\n",
    "\n",
    "# Checks the non null values in column score_rank\n",
    "NotNullValues = data[\"score_rank\"].notnull()\n",
    "ColumnSR = data.loc[NotNullValues,\"score_rank\"]\n",
    "print(\"Amount of non null columns: \", len(ColumnSR))\n",
    "# Deletes score rank column\n",
    "del data['score_rank']"
   ]
  },
  {
   "cell_type": "code",
   "execution_count": 125,
   "metadata": {},
   "outputs": [
    {
     "data": {
      "text/plain": [
       "0        False\n",
       "1        False\n",
       "2        False\n",
       "3        False\n",
       "4        False\n",
       "         ...  \n",
       "29230    False\n",
       "29231    False\n",
       "29232    False\n",
       "29233    False\n",
       "29234    False\n",
       "Length: 29235, dtype: bool"
      ]
     },
     "execution_count": 125,
     "metadata": {},
     "output_type": "execute_result"
    }
   ],
   "source": [
    "#Checks for duplicate data\n",
    "dups = data.duplicated()\n",
    "dups"
   ]
  },
  {
   "cell_type": "code",
   "execution_count": 126,
   "metadata": {},
   "outputs": [
    {
     "name": "stdout",
     "output_type": "stream",
     "text": [
      "Number of duplicate rows: 0\n"
     ]
    }
   ],
   "source": [
    "# Prints number of duplicate rows\n",
    "duplicates = data.duplicated()\n",
    "num_duplicates = duplicates.sum()\n",
    "print(f\"Number of duplicate rows: {num_duplicates}\")"
   ]
  },
  {
   "cell_type": "markdown",
   "metadata": {},
   "source": [
    "# Nominal Attribute\n",
    "# Selected 'name', 'developer', 'publisher', 'genre', 'languages' as nominal attributes.\n",
    "# These columns represent categorical information without a specific order, essential for categorization and grouping."
   ]
  },
  {
   "cell_type": "code",
   "execution_count": 127,
   "metadata": {},
   "outputs": [
    {
     "name": "stdout",
     "output_type": "stream",
     "text": [
      "Nominal Attributes:\n",
      "                             name           developer             publisher  \\\n",
      "0                  Counter-Strike               Valve                 Valve   \n",
      "1           Team Fortress Classic               Valve                 Valve   \n",
      "2                   Day of Defeat               Valve                 Valve   \n",
      "3              Deathmatch Classic               Valve                 Valve   \n",
      "4       Half-Life: Opposing Force    Gearbox Software                 Valve   \n",
      "...                           ...                 ...                   ...   \n",
      "29230             Room of Pandora         SHEN JIAWEI           SHEN JIAWEI   \n",
      "29231                   Cyber Gun      Semyon Maximov      BekkerDev Studio   \n",
      "29232            Super Star Blast         EntwicklerX           EntwicklerX   \n",
      "29233  New Yankee 7: Deer Hunters  Yustas Game Studio  Alawar Entertainment   \n",
      "29234                   Rune Lord    Adept Studios GD  Alawar Entertainment   \n",
      "\n",
      "                          genre  \\\n",
      "0                        Action   \n",
      "1                        Action   \n",
      "2                        Action   \n",
      "3                        Action   \n",
      "4                        Action   \n",
      "...                         ...   \n",
      "29230  Adventure, Casual, Indie   \n",
      "29231  Action, Adventure, Indie   \n",
      "29232     Action, Casual, Indie   \n",
      "29233  Adventure, Casual, Indie   \n",
      "29234  Adventure, Casual, Indie   \n",
      "\n",
      "                                               languages  \n",
      "0      English, French, German, Italian, Spanish - Sp...  \n",
      "1      English, French, German, Italian, Spanish - Sp...  \n",
      "2      English, French, German, Italian, Spanish - Spain  \n",
      "3      English, French, German, Italian, Spanish - Sp...  \n",
      "4                        English, French, German, Korean  \n",
      "...                                                  ...  \n",
      "29230  English, Japanese, Simplified Chinese, Traditi...  \n",
      "29231                                            English  \n",
      "29232                                            English  \n",
      "29233                   English, German, Korean, Russian  \n",
      "29234  English, French, Italian, German, Spanish - Sp...  \n",
      "\n",
      "[29235 rows x 5 columns]\n"
     ]
    }
   ],
   "source": [
    "# Assuming 'name', 'developer', 'publisher', 'genre', 'languages' columns are nominal attributes\n",
    "nominal_attributes_values = data[['name', 'developer', 'publisher', 'genre', 'languages']]\n",
    "print(\"Nominal Attributes:\")\n",
    "print(nominal_attributes_values)"
   ]
  },
  {
   "cell_type": "markdown",
   "metadata": {},
   "source": [
    "# Binary Attribute\n",
    "# 'price' is selected for 'free_game' as it follows industry standards, where a price of 0 indicates a free game. \n",
    "# This simplifies the classification, aiding in analyzing game pricing trends and user preferences."
   ]
  },
  {
   "cell_type": "code",
   "execution_count": 128,
   "metadata": {},
   "outputs": [
    {
     "name": "stdout",
     "output_type": "stream",
     "text": [
      "Binary Attribute Unique Values:\n",
      "\n",
      "Number of Non-Free Games (Class 0): 25583\n",
      "Number of Free Games (Class 1): 3652\n"
     ]
    }
   ],
   "source": [
    "# Assuming 'price' column is used to create a binary attribute for free games\n",
    "data['free_game'] = data['price'].apply(lambda x: 1 if x == 0 else 0)\n",
    "\n",
    "# Print the unique values in the binary attribute\n",
    "unique_values = data['free_game'].unique()\n",
    "print(\"Binary Attribute Unique Values:\")\n",
    "\n",
    "# Count the number of free and non-free games\n",
    "free_game_counts = data['free_game'].value_counts()\n",
    "\n",
    "# Print the result\n",
    "print(\"\\nNumber of Non-Free Games (Class 0):\", free_game_counts[0])\n",
    "print(\"Number of Free Games (Class 1):\", free_game_counts[1])"
   ]
  },
  {
   "cell_type": "code",
   "execution_count": 129,
   "metadata": {},
   "outputs": [
    {
     "name": "stdout",
     "output_type": "stream",
     "text": [
      "Minimum price: 0.0\n",
      "Maximum price: 59599.0\n",
      "Mean price: 777.8113743751284\n",
      "Median price: nan\n",
      "Standard deviation of price: 1135.2583648446362\n",
      "Variance of price: 1288811.554949717\n",
      "Sum of price: 22716759.0\n",
      "Product of price: 0.0\n"
     ]
    }
   ],
   "source": [
    "# Extracts the \"price\" column\n",
    "price_column = data['price']\n",
    "\n",
    "# Calculates the mean and median of the price column\n",
    "mean_price = np.mean(price_column)\n",
    "median_price = np.median(price_column)\n",
    "\n",
    "standard_price = np.std(price_column)\n",
    "variance_price = np.var(price_column)\n",
    "\n",
    "min_price = np.min(price_column)\n",
    "max_price = np.max(price_column)\n",
    "\n",
    "# Calculate the sum and product of the \"price\" column\n",
    "sum_price = np.sum(price_column)\n",
    "product_price = np.product(price_column)\n",
    "\n",
    "# Prints min and max price in USD cents\n",
    "print(\"Minimum price:\", min_price)\n",
    "print(\"Maximum price:\", max_price)\n",
    "\n",
    "# Prints the mean and median values of the prices\n",
    "print(\"Mean price:\", mean_price)\n",
    "print(\"Median price:\", median_price)\n",
    "\n",
    "# Prints the standard deviation and variance of the price\n",
    "print(\"Standard deviation of price:\", standard_price)\n",
    "print(\"Variance of price:\", variance_price)\n",
    "\n",
    "# Prints the sum and product of the price\n",
    "print(\"Sum of price:\", sum_price)\n",
    "print(\"Product of price:\", product_price)"
   ]
  },
  {
   "cell_type": "code",
   "execution_count": 130,
   "metadata": {},
   "outputs": [
    {
     "name": "stdout",
     "output_type": "stream",
     "text": [
      "Minimum positive review: 0\n",
      "Maximum positive review: 2644404\n",
      "Mean positive review: 0        124534\n",
      "1          3318\n",
      "2          3416\n",
      "3          1273\n",
      "4          5250\n",
      "          ...  \n",
      "29230         3\n",
      "29231         8\n",
      "29232         0\n",
      "29233         2\n",
      "29234         4\n",
      "Name: positive, Length: 29235, dtype: int64\n",
      "Median positive review: 0        124534\n",
      "1          3318\n",
      "2          3416\n",
      "3          1273\n",
      "4          5250\n",
      "          ...  \n",
      "29230         3\n",
      "29231         8\n",
      "29232         0\n",
      "29233         2\n",
      "29234         4\n",
      "Name: positive, Length: 29235, dtype: int64\n",
      "Standard deviation of positive: 18298.53550857277\n",
      "Variance of positive: 334836401.7584986\n",
      "Sum of positive reviews: 28225775\n",
      "Product of positive reviews: 0\n"
     ]
    }
   ],
   "source": [
    "# Extracts positive colummn\n",
    "positive_column = data['positive']\n",
    "\n",
    "# Calculates the mean and median of the positive review column\n",
    "mean_positive = np.mean(positive_column)\n",
    "median_positive = np.median(positive_column)\n",
    "\n",
    "# Calculates the standard deviation and variance of positive review number\n",
    "standard_positive = np.std(positive_column)\n",
    "variance_positive = np.var(positive_column)\n",
    "\n",
    "# Calculates the min and max of positive reviews\n",
    "min_positive = np.min(positive_column)\n",
    "max_positive = np.max(positive_column)\n",
    "\n",
    "# Calculates the sum and product of positive reviews\n",
    "sum_positive = np.sum(positive_column)\n",
    "product_positive = np.product(positive_column)\n",
    "\n",
    "# Prints smallest and highest number of positive reviews\n",
    "print(\"Minimum positive review:\", min_positive)\n",
    "print(\"Maximum positive review:\", max_positive)\n",
    "\n",
    "# Prints the mean of and median of the positive review numbers\n",
    "print(\"Mean positive review:\", positive_column)\n",
    "print(\"Median positive review:\", positive_column)\n",
    "\n",
    "# Prints the standard deviation and variance of the positive review numbers\n",
    "print(\"Standard deviation of positive:\", standard_positive)\n",
    "print(\"Variance of positive:\", variance_positive)\n",
    "\n",
    "# Prints the sum and product of the positive reviews\n",
    "print(\"Sum of positive reviews:\", sum_positive)\n",
    "print(\"Product of positive reviews:\", product_positive)"
   ]
  },
  {
   "cell_type": "code",
   "execution_count": 131,
   "metadata": {},
   "outputs": [
    {
     "name": "stdout",
     "output_type": "stream",
     "text": [
      "Minimum negative review: 0\n",
      "Maximum negative review: 487076\n",
      "Mean negative review: 0        3339\n",
      "1         633\n",
      "2         398\n",
      "3         267\n",
      "4         288\n",
      "         ... \n",
      "29230       0\n",
      "29231       1\n",
      "29232       1\n",
      "29233       0\n",
      "29234       0\n",
      "Name: negative, Length: 29235, dtype: int64\n",
      "Median negative review: 0        3339\n",
      "1         633\n",
      "2         398\n",
      "3         267\n",
      "4         288\n",
      "         ... \n",
      "29230       0\n",
      "29231       1\n",
      "29232       1\n",
      "29233       0\n",
      "29234       0\n",
      "Name: negative, Length: 29235, dtype: int64\n",
      "Standard deviation of negative: 4132.3183085759865\n",
      "Variance of negative: 17076054.6033923\n",
      "Sum of price: 6017929\n",
      "Product of price: 0\n"
     ]
    }
   ],
   "source": [
    "# Extracts positive colummn\n",
    "negative_column = data['negative']\n",
    "\n",
    "# Calculates the mean and median of the negative reviews column\n",
    "mean_negative = np.mean(negative_column)\n",
    "median_negative = np.median(negative_column)\n",
    "\n",
    "# Calculates the standard deviation and variance\n",
    "standard_negative = np.std(negative_column)\n",
    "variance_negative = np.var(negative_column)\n",
    "\n",
    "# Calculates min and max of negative reviews\n",
    "min_negative = np.min(negative_column)\n",
    "max_negative = np.max(negative_column)\n",
    "\n",
    "# Calculate the sum and product of the \"price\" column\n",
    "sum_negative = np.sum(negative_column)\n",
    "product_negative = np.product(negative_column)\n",
    "\n",
    "\n",
    "# Prints smallest and highest number of negative reviews\n",
    "print(\"Minimum negative review:\", min_negative)\n",
    "print(\"Maximum negative review:\", max_negative)\n",
    "\n",
    "# Prints the mean of and median of negative review numbers\n",
    "print(\"Mean negative review:\", negative_column)\n",
    "print(\"Median negative review:\", negative_column)\n",
    "\n",
    "# Prints the standard deviation and variance of negative review numbers\n",
    "print(\"Standard deviation of negative:\", standard_negative)\n",
    "print(\"Variance of negative:\", variance_negative)\n",
    "\n",
    "# Prints the sum and product of the negative reviews\n",
    "print(\"Sum of price:\", sum_negative)\n",
    "print(\"Product of price:\", product_negative)"
   ]
  }
 ],
 "metadata": {
  "kernelspec": {
   "display_name": "Python 3",
   "language": "python",
   "name": "python3"
  },
  "language_info": {
   "codemirror_mode": {
    "name": "ipython",
    "version": 3
   },
   "file_extension": ".py",
   "mimetype": "text/x-python",
   "name": "python",
   "nbconvert_exporter": "python",
   "pygments_lexer": "ipython3",
   "version": "3.11.5"
  }
 },
 "nbformat": 4,
 "nbformat_minor": 2
}
