{
 "cells": [
  {
   "cell_type": "code",
   "execution_count": 1,
   "metadata": {},
   "outputs": [],
   "source": [
    "import pandas as pd\n",
    "import numpy as np\n",
    "import matplotlib as plt\n",
    "\n",
    "# Imports our data files\n",
    "data = pd.read_csv(\"steamspy_data.csv\")\n",
    "data2 = pd.read_csv(\"app_list.csv\")\n"
   ]
  },
  {
   "cell_type": "code",
   "execution_count": 2,
   "metadata": {},
   "outputs": [
    {
     "data": {
      "text/html": [
       "<div>\n",
       "<style scoped>\n",
       "    .dataframe tbody tr th:only-of-type {\n",
       "        vertical-align: middle;\n",
       "    }\n",
       "\n",
       "    .dataframe tbody tr th {\n",
       "        vertical-align: top;\n",
       "    }\n",
       "\n",
       "    .dataframe thead th {\n",
       "        text-align: right;\n",
       "    }\n",
       "</style>\n",
       "<table border=\"1\" class=\"dataframe\">\n",
       "  <thead>\n",
       "    <tr style=\"text-align: right;\">\n",
       "      <th></th>\n",
       "      <th>appid</th>\n",
       "      <th>name</th>\n",
       "      <th>developer</th>\n",
       "      <th>publisher</th>\n",
       "      <th>score_rank</th>\n",
       "      <th>positive</th>\n",
       "      <th>negative</th>\n",
       "      <th>userscore</th>\n",
       "      <th>owners</th>\n",
       "      <th>average_forever</th>\n",
       "      <th>average_2weeks</th>\n",
       "      <th>median_forever</th>\n",
       "      <th>median_2weeks</th>\n",
       "      <th>price</th>\n",
       "      <th>initialprice</th>\n",
       "      <th>discount</th>\n",
       "      <th>languages</th>\n",
       "      <th>genre</th>\n",
       "      <th>ccu</th>\n",
       "      <th>tags</th>\n",
       "    </tr>\n",
       "  </thead>\n",
       "  <tbody>\n",
       "    <tr>\n",
       "      <th>25042</th>\n",
       "      <td>885220</td>\n",
       "      <td>Neon Cat Tickler</td>\n",
       "      <td>Petcom ltd.</td>\n",
       "      <td>Petcom ltd.</td>\n",
       "      <td>NaN</td>\n",
       "      <td>1</td>\n",
       "      <td>0</td>\n",
       "      <td>0</td>\n",
       "      <td>0 .. 20,000</td>\n",
       "      <td>0</td>\n",
       "      <td>0</td>\n",
       "      <td>0</td>\n",
       "      <td>0</td>\n",
       "      <td>99.0</td>\n",
       "      <td>99.0</td>\n",
       "      <td>0.0</td>\n",
       "      <td>English</td>\n",
       "      <td>Action, Adventure, Casual, Indie</td>\n",
       "      <td>0</td>\n",
       "      <td>{'Action': 21, 'Indie': 21, 'Casual': 21, 'Adv...</td>\n",
       "    </tr>\n",
       "    <tr>\n",
       "      <th>18331</th>\n",
       "      <td>701910</td>\n",
       "      <td>Dawn of a Soul</td>\n",
       "      <td>Waldemar Umaniz</td>\n",
       "      <td>Waldemar Umaniz</td>\n",
       "      <td>NaN</td>\n",
       "      <td>13</td>\n",
       "      <td>0</td>\n",
       "      <td>0</td>\n",
       "      <td>0 .. 20,000</td>\n",
       "      <td>0</td>\n",
       "      <td>0</td>\n",
       "      <td>0</td>\n",
       "      <td>0</td>\n",
       "      <td>299.0</td>\n",
       "      <td>299.0</td>\n",
       "      <td>0.0</td>\n",
       "      <td>English, German, Spanish - Spain, Portuguese -...</td>\n",
       "      <td>Casual, Indie</td>\n",
       "      <td>0</td>\n",
       "      <td>{'Indie': 22, 'Casual': 22, 'Puzzle': 5}</td>\n",
       "    </tr>\n",
       "    <tr>\n",
       "      <th>12303</th>\n",
       "      <td>537660</td>\n",
       "      <td>Brumm</td>\n",
       "      <td>eiloware</td>\n",
       "      <td>eiloware</td>\n",
       "      <td>NaN</td>\n",
       "      <td>4</td>\n",
       "      <td>2</td>\n",
       "      <td>0</td>\n",
       "      <td>0 .. 20,000</td>\n",
       "      <td>0</td>\n",
       "      <td>0</td>\n",
       "      <td>0</td>\n",
       "      <td>0</td>\n",
       "      <td>599.0</td>\n",
       "      <td>599.0</td>\n",
       "      <td>0.0</td>\n",
       "      <td>English</td>\n",
       "      <td>Racing</td>\n",
       "      <td>0</td>\n",
       "      <td>{'Racing': 23}</td>\n",
       "    </tr>\n",
       "    <tr>\n",
       "      <th>866</th>\n",
       "      <td>39530</td>\n",
       "      <td>Painkiller: Black Edition</td>\n",
       "      <td>People Can Fly</td>\n",
       "      <td>THQ Nordic</td>\n",
       "      <td>NaN</td>\n",
       "      <td>449</td>\n",
       "      <td>55</td>\n",
       "      <td>0</td>\n",
       "      <td>200,000 .. 500,000</td>\n",
       "      <td>478</td>\n",
       "      <td>0</td>\n",
       "      <td>570</td>\n",
       "      <td>0</td>\n",
       "      <td>999.0</td>\n",
       "      <td>999.0</td>\n",
       "      <td>0.0</td>\n",
       "      <td>English, French, German, Spanish - Spain</td>\n",
       "      <td>Action</td>\n",
       "      <td>13</td>\n",
       "      <td>{'Gore': 43, 'Action': 39, 'FPS': 23, 'Great S...</td>\n",
       "    </tr>\n",
       "    <tr>\n",
       "      <th>10107</th>\n",
       "      <td>477870</td>\n",
       "      <td>Yomawari: Night Alone / 夜廻</td>\n",
       "      <td>Nippon Ichi Software, Inc.</td>\n",
       "      <td>NIS America, Inc.</td>\n",
       "      <td>NaN</td>\n",
       "      <td>728</td>\n",
       "      <td>184</td>\n",
       "      <td>0</td>\n",
       "      <td>50,000 .. 100,000</td>\n",
       "      <td>0</td>\n",
       "      <td>0</td>\n",
       "      <td>0</td>\n",
       "      <td>0</td>\n",
       "      <td>1999.0</td>\n",
       "      <td>1999.0</td>\n",
       "      <td>0.0</td>\n",
       "      <td>English, Japanese</td>\n",
       "      <td>Adventure, Strategy</td>\n",
       "      <td>6</td>\n",
       "      <td>{'Adventure': 63, 'Horror': 62, 'Cute': 50, 'F...</td>\n",
       "    </tr>\n",
       "  </tbody>\n",
       "</table>\n",
       "</div>"
      ],
      "text/plain": [
       "        appid                        name                   developer  \\\n",
       "25042  885220            Neon Cat Tickler                 Petcom ltd.   \n",
       "18331  701910              Dawn of a Soul             Waldemar Umaniz   \n",
       "12303  537660                       Brumm                    eiloware   \n",
       "866     39530   Painkiller: Black Edition              People Can Fly   \n",
       "10107  477870  Yomawari: Night Alone / 夜廻  Nippon Ichi Software, Inc.   \n",
       "\n",
       "               publisher  score_rank  positive  negative  userscore  \\\n",
       "25042        Petcom ltd.         NaN         1         0          0   \n",
       "18331    Waldemar Umaniz         NaN        13         0          0   \n",
       "12303           eiloware         NaN         4         2          0   \n",
       "866           THQ Nordic         NaN       449        55          0   \n",
       "10107  NIS America, Inc.         NaN       728       184          0   \n",
       "\n",
       "                   owners  average_forever  average_2weeks  median_forever  \\\n",
       "25042         0 .. 20,000                0               0               0   \n",
       "18331         0 .. 20,000                0               0               0   \n",
       "12303         0 .. 20,000                0               0               0   \n",
       "866    200,000 .. 500,000              478               0             570   \n",
       "10107   50,000 .. 100,000                0               0               0   \n",
       "\n",
       "       median_2weeks   price  initialprice  discount  \\\n",
       "25042              0    99.0          99.0       0.0   \n",
       "18331              0   299.0         299.0       0.0   \n",
       "12303              0   599.0         599.0       0.0   \n",
       "866                0   999.0         999.0       0.0   \n",
       "10107              0  1999.0        1999.0       0.0   \n",
       "\n",
       "                                               languages  \\\n",
       "25042                                            English   \n",
       "18331  English, German, Spanish - Spain, Portuguese -...   \n",
       "12303                                            English   \n",
       "866             English, French, German, Spanish - Spain   \n",
       "10107                                  English, Japanese   \n",
       "\n",
       "                                  genre  ccu  \\\n",
       "25042  Action, Adventure, Casual, Indie    0   \n",
       "18331                     Casual, Indie    0   \n",
       "12303                            Racing    0   \n",
       "866                              Action   13   \n",
       "10107               Adventure, Strategy    6   \n",
       "\n",
       "                                                    tags  \n",
       "25042  {'Action': 21, 'Indie': 21, 'Casual': 21, 'Adv...  \n",
       "18331           {'Indie': 22, 'Casual': 22, 'Puzzle': 5}  \n",
       "12303                                     {'Racing': 23}  \n",
       "866    {'Gore': 43, 'Action': 39, 'FPS': 23, 'Great S...  \n",
       "10107  {'Adventure': 63, 'Horror': 62, 'Cute': 50, 'F...  "
      ]
     },
     "execution_count": 2,
     "metadata": {},
     "output_type": "execute_result"
    }
   ],
   "source": [
    "# Prints 5 random samples\n",
    "sample=data.sample(5)\n",
    "sample"
   ]
  },
  {
   "cell_type": "code",
   "execution_count": 3,
   "metadata": {},
   "outputs": [
    {
     "data": {
      "text/plain": [
       "(29235, 20)"
      ]
     },
     "execution_count": 3,
     "metadata": {},
     "output_type": "execute_result"
    }
   ],
   "source": [
    "# Checks how big our data is (columns, rows)\n",
    "data.shape"
   ]
  },
  {
   "cell_type": "code",
   "execution_count": 4,
   "metadata": {},
   "outputs": [
    {
     "data": {
      "text/plain": [
       "Index(['appid', 'name', 'developer', 'publisher', 'score_rank', 'positive',\n",
       "       'negative', 'userscore', 'owners', 'average_forever', 'average_2weeks',\n",
       "       'median_forever', 'median_2weeks', 'price', 'initialprice', 'discount',\n",
       "       'languages', 'genre', 'ccu', 'tags'],\n",
       "      dtype='object')"
      ]
     },
     "execution_count": 4,
     "metadata": {},
     "output_type": "execute_result"
    }
   ],
   "source": [
    "# Shows column names\n",
    "data.columns"
   ]
  },
  {
   "cell_type": "code",
   "execution_count": 5,
   "metadata": {},
   "outputs": [
    {
     "data": {
      "text/plain": [
       "array([[10, 'Counter-Strike', 'Valve', ..., 'Action', 14923,\n",
       "        '{\\'Action\\': 2681, \\'FPS\\': 2048, \\'Multiplayer\\': 1659, \\'Shooter\\': 1420, \\'Classic\\': 1344, \\'Team-Based\\': 943, \\'First-Person\\': 799, \\'Competitive\\': 790, \\'Tactical\\': 734, \"1990\\'s\": 564, \\'e-sports\\': 550, \\'PvP\\': 480, \\'Military\\': 367, \\'Strategy\\': 329, \\'Score Attack\\': 200, \\'Survival\\': 192, \\'Old School\\': 164, \\'Assassin\\': 151, \\'1980s\\': 144, \\'Violent\\': 40}'],\n",
       "       [20, 'Team Fortress Classic', 'Valve', ..., 'Action', 87,\n",
       "        '{\\'Action\\': 208, \\'FPS\\': 188, \\'Multiplayer\\': 172, \\'Classic\\': 152, \\'Shooter\\': 134, \\'Class-Based\\': 124, \\'Team-Based\\': 115, \\'First-Person\\': 109, \"1990\\'s\": 71, \\'Co-op\\': 62, \\'Competitive\\': 48, \\'Old School\\': 46, \\'Fast-Paced\\': 39, \\'Online Co-Op\\': 28, \\'Retro\\': 27, \\'Remake\\': 27, \\'Violent\\': 26, \\'Mod\\': 24, \\'Funny\\': 20, \\'Adventure\\': 15}'],\n",
       "       [30, 'Day of Defeat', 'Valve', ..., 'Action', 130,\n",
       "        \"{'FPS': 138, 'World War II': 122, 'Multiplayer': 115, 'Action': 99, 'Shooter': 95, 'War': 80, 'Team-Based': 79, 'Classic': 61, 'Class-Based': 55, 'First-Person': 50, 'Historical': 28, 'Military': 19, 'Singleplayer': 16, 'Tactical': 14, 'Co-op': 12, 'World War I': 5}\"],\n",
       "       ...,\n",
       "       [1065650, 'Super Star Blast', 'EntwicklerX', ...,\n",
       "        'Action, Casual, Indie', 0,\n",
       "        \"{'Action': 21, 'Indie': 21, 'Casual': 21}\"],\n",
       "       [1066700, 'New Yankee 7: Deer Hunters', 'Yustas Game Studio', ...,\n",
       "        'Adventure, Casual, Indie', 1,\n",
       "        \"{'Indie': 21, 'Casual': 21, 'Adventure': 20}\"],\n",
       "       [1069460, 'Rune Lord', 'Adept Studios GD', ...,\n",
       "        'Adventure, Casual, Indie', 4,\n",
       "        \"{'Indie': 21, 'Casual': 21, 'Adventure': 20}\"]], dtype=object)"
      ]
     },
     "execution_count": 5,
     "metadata": {},
     "output_type": "execute_result"
    }
   ],
   "source": [
    "data.values"
   ]
  },
  {
   "cell_type": "code",
   "execution_count": 6,
   "metadata": {},
   "outputs": [
    {
     "name": "stdout",
     "output_type": "stream",
     "text": [
      "<class 'pandas.core.frame.DataFrame'>\n",
      "RangeIndex: 29235 entries, 0 to 29234\n",
      "Data columns (total 20 columns):\n",
      " #   Column           Non-Null Count  Dtype  \n",
      "---  ------           --------------  -----  \n",
      " 0   appid            29235 non-null  int64  \n",
      " 1   name             29230 non-null  object \n",
      " 2   developer        29037 non-null  object \n",
      " 3   publisher        28939 non-null  object \n",
      " 4   score_rank       58 non-null     float64\n",
      " 5   positive         29235 non-null  int64  \n",
      " 6   negative         29235 non-null  int64  \n",
      " 7   userscore        29235 non-null  int64  \n",
      " 8   owners           29235 non-null  object \n",
      " 9   average_forever  29235 non-null  int64  \n",
      " 10  average_2weeks   29235 non-null  int64  \n",
      " 11  median_forever   29235 non-null  int64  \n",
      " 12  median_2weeks    29235 non-null  int64  \n",
      " 13  price            29206 non-null  float64\n",
      " 14  initialprice     29213 non-null  float64\n",
      " 15  discount         29213 non-null  float64\n",
      " 16  languages        29141 non-null  object \n",
      " 17  genre            29083 non-null  object \n",
      " 18  ccu              29235 non-null  int64  \n",
      " 19  tags             29235 non-null  object \n",
      "dtypes: float64(4), int64(9), object(7)\n",
      "memory usage: 4.5+ MB\n"
     ]
    }
   ],
   "source": [
    "# Shows info about our columns\n",
    "data.info()"
   ]
  },
  {
   "cell_type": "code",
   "execution_count": 7,
   "metadata": {},
   "outputs": [],
   "source": [
    "# Deletes median_2weeks, average_2weeks and userscore and score_rank\n",
    "del data['median_2weeks']\n",
    "del data['average_2weeks']\n",
    "del data['userscore']\n",
    "del data['score_rank']"
   ]
  },
  {
   "cell_type": "code",
   "execution_count": 8,
   "metadata": {},
   "outputs": [
    {
     "name": "stdout",
     "output_type": "stream",
     "text": [
      "The percent of data missing is: 6.035271984627612 %\n",
      "Amount of non null columns:  58\n"
     ]
    }
   ],
   "source": [
    "# Prints the percentage of missing data\n",
    "missing_count = data.isnull().sum()\n",
    "\n",
    "total_data=np.product(data.shape)\n",
    "total_missing=missing_count.sum()\n",
    "per_of_missing_data=(total_missing/total_data)* 100\n",
    "print(\"The percent of data missing is:\" ,per_of_missing_data,\"%\")\n",
    "\n",
    "\n",
    "# Checks the non null values in column score_rank\n",
    "NotNullValues = data[\"score_rank\"].notnull()\n",
    "ColumnSR = data.loc[NotNullValues,\"score_rank\"]\n",
    "print(\"Amount of non null columns: \", len(ColumnSR))"
   ]
  },
  {
   "cell_type": "code",
   "execution_count": 9,
   "metadata": {},
   "outputs": [
    {
     "data": {
      "text/plain": [
       "0        False\n",
       "1        False\n",
       "2        False\n",
       "3        False\n",
       "4        False\n",
       "         ...  \n",
       "29230    False\n",
       "29231    False\n",
       "29232    False\n",
       "29233    False\n",
       "29234    False\n",
       "Length: 29235, dtype: bool"
      ]
     },
     "execution_count": 9,
     "metadata": {},
     "output_type": "execute_result"
    }
   ],
   "source": [
    "#Checks for duplicate data\n",
    "dups = data.duplicated()\n",
    "dups"
   ]
  },
  {
   "cell_type": "code",
   "execution_count": 10,
   "metadata": {},
   "outputs": [
    {
     "name": "stdout",
     "output_type": "stream",
     "text": [
      "Number of duplicate rows: 0\n"
     ]
    }
   ],
   "source": [
    "# Prints number of duplicate rows\n",
    "duplicates = data.duplicated()\n",
    "num_duplicates = duplicates.sum()\n",
    "print(f\"Number of duplicate rows: {num_duplicates}\")"
   ]
  },
  {
   "cell_type": "markdown",
   "metadata": {},
   "source": [
    "# Nominal Attribute\n",
    "# Selected 'name', 'developer', 'publisher', 'genre', 'languages' as nominal attributes.\n",
    "# These columns represent categorical information without a specific order, essential for categorization and grouping."
   ]
  },
  {
   "cell_type": "code",
   "execution_count": 11,
   "metadata": {},
   "outputs": [
    {
     "name": "stdout",
     "output_type": "stream",
     "text": [
      "Nominal Attributes:\n",
      "                             name           developer             publisher  \\\n",
      "0                  Counter-Strike               Valve                 Valve   \n",
      "1           Team Fortress Classic               Valve                 Valve   \n",
      "2                   Day of Defeat               Valve                 Valve   \n",
      "3              Deathmatch Classic               Valve                 Valve   \n",
      "4       Half-Life: Opposing Force    Gearbox Software                 Valve   \n",
      "...                           ...                 ...                   ...   \n",
      "29230             Room of Pandora         SHEN JIAWEI           SHEN JIAWEI   \n",
      "29231                   Cyber Gun      Semyon Maximov      BekkerDev Studio   \n",
      "29232            Super Star Blast         EntwicklerX           EntwicklerX   \n",
      "29233  New Yankee 7: Deer Hunters  Yustas Game Studio  Alawar Entertainment   \n",
      "29234                   Rune Lord    Adept Studios GD  Alawar Entertainment   \n",
      "\n",
      "                          genre  \\\n",
      "0                        Action   \n",
      "1                        Action   \n",
      "2                        Action   \n",
      "3                        Action   \n",
      "4                        Action   \n",
      "...                         ...   \n",
      "29230  Adventure, Casual, Indie   \n",
      "29231  Action, Adventure, Indie   \n",
      "29232     Action, Casual, Indie   \n",
      "29233  Adventure, Casual, Indie   \n",
      "29234  Adventure, Casual, Indie   \n",
      "\n",
      "                                               languages  \n",
      "0      English, French, German, Italian, Spanish - Sp...  \n",
      "1      English, French, German, Italian, Spanish - Sp...  \n",
      "2      English, French, German, Italian, Spanish - Spain  \n",
      "3      English, French, German, Italian, Spanish - Sp...  \n",
      "4                        English, French, German, Korean  \n",
      "...                                                  ...  \n",
      "29230  English, Japanese, Simplified Chinese, Traditi...  \n",
      "29231                                            English  \n",
      "29232                                            English  \n",
      "29233                   English, German, Korean, Russian  \n",
      "29234  English, French, Italian, German, Spanish - Sp...  \n",
      "\n",
      "[29235 rows x 5 columns]\n"
     ]
    }
   ],
   "source": [
    "# Assuming 'name', 'developer', 'publisher', 'genre', 'languages' columns are nominal attributes\n",
    "nominal_attributes_values = data[['name', 'developer', 'publisher', 'genre', 'languages']]\n",
    "print(\"Nominal Attributes:\")\n",
    "print(nominal_attributes_values)"
   ]
  },
  {
   "cell_type": "markdown",
   "metadata": {},
   "source": [
    "# Binary Attribute\n",
    "# 'price' is selected for 'free_game' as it follows industry standards, where a price of 0 indicates a free game. \n",
    "# This simplifies the classification, aiding in analyzing game pricing trends and user preferences."
   ]
  },
  {
   "cell_type": "code",
   "execution_count": 12,
   "metadata": {},
   "outputs": [
    {
     "name": "stdout",
     "output_type": "stream",
     "text": [
      "Binary Attribute Unique Values:\n",
      "\n",
      "Number of Non-Free Games (Class 0): 25583\n",
      "Number of Free Games (Class 1): 3652\n"
     ]
    }
   ],
   "source": [
    "# Assuming 'price' column is used to create a binary attribute for free games\n",
    "data['free_game'] = data['price'].apply(lambda x: 1 if x == 0 else 0)\n",
    "\n",
    "# Print the unique values in the binary attribute\n",
    "unique_values = data['free_game'].unique()\n",
    "print(\"Binary Attribute Unique Values:\")\n",
    "\n",
    "# Count the number of free and non-free games\n",
    "free_game_counts = data['free_game'].value_counts()\n",
    "\n",
    "# Print the result\n",
    "print(\"\\nNumber of Non-Free Games (Class 0):\", free_game_counts[0])\n",
    "print(\"Number of Free Games (Class 1):\", free_game_counts[1])"
   ]
  },
  {
   "cell_type": "code",
   "execution_count": null,
   "metadata": {},
   "outputs": [],
   "source": [
    "#checking the dataframes in order\n",
    "\n",
    "data_sorted = data.sort_values(by='price', ascending=False)  # Sort in descending order\n",
    "data_sorted"
   ]
  },
  {
   "cell_type": "code",
   "execution_count": null,
   "metadata": {},
   "outputs": [],
   "source": [
    "# Creating bins for 'price' column\n",
    "bins = [0, 500, 1000, 5000, 10000, 60000]\n",
    "\n",
    "# lets create lables for each bin\n",
    "labels = ['Very low', 'Low', 'Medium', 'High', 'Very High']\n",
    "\n",
    "# we will use cut function to bin\n",
    "data['cost'] = pd.cut(data['price'], bins=bins, labels=labels, right=False)\n",
    "\n",
    "# Get the list of categories\n",
    "categories_list = data['cost'].cat.categories.tolist()\n",
    "print(categories_list)\n",
    "\n",
    "# Count the values in each bin\n",
    "bin_counts = data['cost'].value_counts()\n",
    "print(bin_counts)\n"
   ]
  },
  {
   "cell_type": "code",
   "execution_count": null,
   "metadata": {},
   "outputs": [],
   "source": [
    "# Creating bins for 'price column\n",
    "bins = [0, 1000,  , 8000, 10000, 20000]\n",
    "\n",
    "# lets create lables for each bin\n",
    "labels = ['Very low', 'Low', 'Medium', 'High', 'Very High']\n",
    "\n",
    "# we will use cut function to bin\n",
    "data['Popularity'] = pd.cut(data['positive'], bins=bins, labels=labels, right=False)\n",
    "\n",
    "# Get the list of categories\n",
    "categories_list = data['Popularity'].cat.categories.tolist()\n",
    "print(categories_list)\n",
    "\n",
    "# Count the values in each bin\n",
    "bin_counts = data['Popularity'].value_counts()\n",
    "print(bin_counts)"
   ]
  }
 ],
 "metadata": {
  "kernelspec": {
   "display_name": "Python 3",
   "language": "python",
   "name": "python3"
  },
  "language_info": {
   "codemirror_mode": {
    "name": "ipython",
    "version": 3
   },
   "file_extension": ".py",
   "mimetype": "text/x-python",
   "name": "python",
   "nbconvert_exporter": "python",
   "pygments_lexer": "ipython3",
   "version": "3.12.0"
  }
 },
 "nbformat": 4,
 "nbformat_minor": 2
}
