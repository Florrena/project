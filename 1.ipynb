{
 "cells": [
  {
   "cell_type": "code",
   "execution_count": 21,
   "metadata": {},
   "outputs": [],
   "source": [
    "import pandas as pd\n",
    "import numpy as np\n",
    "import matplotlib as plt\n",
    "\n",
    "# Imports our data files\n",
    "data = pd.read_csv(\"steamspy_data.csv\")\n",
    "data2 = pd.read_csv(\"app_list.csv\")\n"
   ]
  },
  {
   "cell_type": "code",
   "execution_count": 22,
   "metadata": {},
   "outputs": [
    {
     "data": {
      "text/html": [
       "<div>\n",
       "<style scoped>\n",
       "    .dataframe tbody tr th:only-of-type {\n",
       "        vertical-align: middle;\n",
       "    }\n",
       "\n",
       "    .dataframe tbody tr th {\n",
       "        vertical-align: top;\n",
       "    }\n",
       "\n",
       "    .dataframe thead th {\n",
       "        text-align: right;\n",
       "    }\n",
       "</style>\n",
       "<table border=\"1\" class=\"dataframe\">\n",
       "  <thead>\n",
       "    <tr style=\"text-align: right;\">\n",
       "      <th></th>\n",
       "      <th>appid</th>\n",
       "      <th>name</th>\n",
       "      <th>developer</th>\n",
       "      <th>publisher</th>\n",
       "      <th>score_rank</th>\n",
       "      <th>positive</th>\n",
       "      <th>negative</th>\n",
       "      <th>userscore</th>\n",
       "      <th>owners</th>\n",
       "      <th>average_forever</th>\n",
       "      <th>average_2weeks</th>\n",
       "      <th>median_forever</th>\n",
       "      <th>median_2weeks</th>\n",
       "      <th>price</th>\n",
       "      <th>initialprice</th>\n",
       "      <th>discount</th>\n",
       "      <th>languages</th>\n",
       "      <th>genre</th>\n",
       "      <th>ccu</th>\n",
       "      <th>tags</th>\n",
       "    </tr>\n",
       "  </thead>\n",
       "  <tbody>\n",
       "    <tr>\n",
       "      <th>15590</th>\n",
       "      <td>626730</td>\n",
       "      <td>The Incredible VR Game Show</td>\n",
       "      <td>Tantawowa</td>\n",
       "      <td>Tantawowa</td>\n",
       "      <td>NaN</td>\n",
       "      <td>3</td>\n",
       "      <td>4</td>\n",
       "      <td>0</td>\n",
       "      <td>0 .. 20,000</td>\n",
       "      <td>0</td>\n",
       "      <td>0</td>\n",
       "      <td>0</td>\n",
       "      <td>0</td>\n",
       "      <td>999.0</td>\n",
       "      <td>999.0</td>\n",
       "      <td>0.0</td>\n",
       "      <td>English</td>\n",
       "      <td>Casual, Indie, Early Access</td>\n",
       "      <td>0</td>\n",
       "      <td>{'Early Access': 21, 'Casual': 22, 'Indie': 20...</td>\n",
       "    </tr>\n",
       "    <tr>\n",
       "      <th>17471</th>\n",
       "      <td>679670</td>\n",
       "      <td>Miniature TD - VR</td>\n",
       "      <td>Reality Reflection</td>\n",
       "      <td>Reality Reflection</td>\n",
       "      <td>NaN</td>\n",
       "      <td>4</td>\n",
       "      <td>2</td>\n",
       "      <td>0</td>\n",
       "      <td>0 .. 20,000</td>\n",
       "      <td>0</td>\n",
       "      <td>0</td>\n",
       "      <td>0</td>\n",
       "      <td>0</td>\n",
       "      <td>99.0</td>\n",
       "      <td>99.0</td>\n",
       "      <td>0.0</td>\n",
       "      <td>English</td>\n",
       "      <td>Casual, Indie, Simulation, Strategy</td>\n",
       "      <td>0</td>\n",
       "      <td>{'Strategy': 21, 'Indie': 21, 'Casual': 21, 'S...</td>\n",
       "    </tr>\n",
       "    <tr>\n",
       "      <th>27274</th>\n",
       "      <td>963860</td>\n",
       "      <td>Invaders from Dimension X</td>\n",
       "      <td>Yobowargames</td>\n",
       "      <td>Tiny Battle Publishing</td>\n",
       "      <td>NaN</td>\n",
       "      <td>3</td>\n",
       "      <td>0</td>\n",
       "      <td>0</td>\n",
       "      <td>0 .. 20,000</td>\n",
       "      <td>0</td>\n",
       "      <td>0</td>\n",
       "      <td>0</td>\n",
       "      <td>0</td>\n",
       "      <td>1599.0</td>\n",
       "      <td>1599.0</td>\n",
       "      <td>0.0</td>\n",
       "      <td>English</td>\n",
       "      <td>Indie, Strategy</td>\n",
       "      <td>0</td>\n",
       "      <td>{'Strategy': 21, 'Indie': 21, 'Turn-Based Stra...</td>\n",
       "    </tr>\n",
       "    <tr>\n",
       "      <th>4267</th>\n",
       "      <td>321350</td>\n",
       "      <td>Fairspace</td>\n",
       "      <td>Sub Orbital Software</td>\n",
       "      <td>Sub Orbital Software</td>\n",
       "      <td>NaN</td>\n",
       "      <td>16</td>\n",
       "      <td>9</td>\n",
       "      <td>0</td>\n",
       "      <td>0 .. 20,000</td>\n",
       "      <td>0</td>\n",
       "      <td>0</td>\n",
       "      <td>0</td>\n",
       "      <td>0</td>\n",
       "      <td>899.0</td>\n",
       "      <td>899.0</td>\n",
       "      <td>0.0</td>\n",
       "      <td>English</td>\n",
       "      <td>Action, Indie, Simulation, Strategy</td>\n",
       "      <td>0</td>\n",
       "      <td>{'Action': 21, 'Indie': 21, 'Strategy': 20, 'S...</td>\n",
       "    </tr>\n",
       "    <tr>\n",
       "      <th>12342</th>\n",
       "      <td>539050</td>\n",
       "      <td>Super Island God VR</td>\n",
       "      <td>Empyrean Interactive</td>\n",
       "      <td>Empyrean Interactive</td>\n",
       "      <td>NaN</td>\n",
       "      <td>35</td>\n",
       "      <td>18</td>\n",
       "      <td>0</td>\n",
       "      <td>0 .. 20,000</td>\n",
       "      <td>0</td>\n",
       "      <td>0</td>\n",
       "      <td>0</td>\n",
       "      <td>0</td>\n",
       "      <td>1999.0</td>\n",
       "      <td>1999.0</td>\n",
       "      <td>0.0</td>\n",
       "      <td>English</td>\n",
       "      <td>Indie, Simulation, Strategy, Early Access</td>\n",
       "      <td>0</td>\n",
       "      <td>{'Early Access': 23, 'Simulation': 24, 'Strate...</td>\n",
       "    </tr>\n",
       "  </tbody>\n",
       "</table>\n",
       "</div>"
      ],
      "text/plain": [
       "        appid                         name             developer  \\\n",
       "15590  626730  The Incredible VR Game Show             Tantawowa   \n",
       "17471  679670            Miniature TD - VR    Reality Reflection   \n",
       "27274  963860    Invaders from Dimension X          Yobowargames   \n",
       "4267   321350                    Fairspace  Sub Orbital Software   \n",
       "12342  539050          Super Island God VR  Empyrean Interactive   \n",
       "\n",
       "                    publisher  score_rank  positive  negative  userscore  \\\n",
       "15590               Tantawowa         NaN         3         4          0   \n",
       "17471      Reality Reflection         NaN         4         2          0   \n",
       "27274  Tiny Battle Publishing         NaN         3         0          0   \n",
       "4267     Sub Orbital Software         NaN        16         9          0   \n",
       "12342    Empyrean Interactive         NaN        35        18          0   \n",
       "\n",
       "            owners  average_forever  average_2weeks  median_forever  \\\n",
       "15590  0 .. 20,000                0               0               0   \n",
       "17471  0 .. 20,000                0               0               0   \n",
       "27274  0 .. 20,000                0               0               0   \n",
       "4267   0 .. 20,000                0               0               0   \n",
       "12342  0 .. 20,000                0               0               0   \n",
       "\n",
       "       median_2weeks   price  initialprice  discount languages  \\\n",
       "15590              0   999.0         999.0       0.0   English   \n",
       "17471              0    99.0          99.0       0.0   English   \n",
       "27274              0  1599.0        1599.0       0.0   English   \n",
       "4267               0   899.0         899.0       0.0   English   \n",
       "12342              0  1999.0        1999.0       0.0   English   \n",
       "\n",
       "                                           genre  ccu  \\\n",
       "15590                Casual, Indie, Early Access    0   \n",
       "17471        Casual, Indie, Simulation, Strategy    0   \n",
       "27274                            Indie, Strategy    0   \n",
       "4267         Action, Indie, Simulation, Strategy    0   \n",
       "12342  Indie, Simulation, Strategy, Early Access    0   \n",
       "\n",
       "                                                    tags  \n",
       "15590  {'Early Access': 21, 'Casual': 22, 'Indie': 20...  \n",
       "17471  {'Strategy': 21, 'Indie': 21, 'Casual': 21, 'S...  \n",
       "27274  {'Strategy': 21, 'Indie': 21, 'Turn-Based Stra...  \n",
       "4267   {'Action': 21, 'Indie': 21, 'Strategy': 20, 'S...  \n",
       "12342  {'Early Access': 23, 'Simulation': 24, 'Strate...  "
      ]
     },
     "execution_count": 22,
     "metadata": {},
     "output_type": "execute_result"
    }
   ],
   "source": [
    "# Prints 5 random samples\n",
    "sample=data.sample(5)\n",
    "sample"
   ]
  },
  {
   "cell_type": "code",
   "execution_count": 23,
   "metadata": {},
   "outputs": [
    {
     "data": {
      "text/plain": [
       "(29235, 20)"
      ]
     },
     "execution_count": 23,
     "metadata": {},
     "output_type": "execute_result"
    }
   ],
   "source": [
    "# Checks how big our data is (columns, rows)\n",
    "data.shape"
   ]
  },
  {
   "cell_type": "code",
   "execution_count": 24,
   "metadata": {},
   "outputs": [
    {
     "data": {
      "text/plain": [
       "Index(['appid', 'name', 'developer', 'publisher', 'score_rank', 'positive',\n",
       "       'negative', 'userscore', 'owners', 'average_forever', 'average_2weeks',\n",
       "       'median_forever', 'median_2weeks', 'price', 'initialprice', 'discount',\n",
       "       'languages', 'genre', 'ccu', 'tags'],\n",
       "      dtype='object')"
      ]
     },
     "execution_count": 24,
     "metadata": {},
     "output_type": "execute_result"
    }
   ],
   "source": [
    "# Shows column names\n",
    "data.columns"
   ]
  },
  {
   "cell_type": "code",
   "execution_count": 25,
   "metadata": {},
   "outputs": [
    {
     "data": {
      "text/plain": [
       "array([[10, 'Counter-Strike', 'Valve', ..., 'Action', 14923,\n",
       "        '{\\'Action\\': 2681, \\'FPS\\': 2048, \\'Multiplayer\\': 1659, \\'Shooter\\': 1420, \\'Classic\\': 1344, \\'Team-Based\\': 943, \\'First-Person\\': 799, \\'Competitive\\': 790, \\'Tactical\\': 734, \"1990\\'s\": 564, \\'e-sports\\': 550, \\'PvP\\': 480, \\'Military\\': 367, \\'Strategy\\': 329, \\'Score Attack\\': 200, \\'Survival\\': 192, \\'Old School\\': 164, \\'Assassin\\': 151, \\'1980s\\': 144, \\'Violent\\': 40}'],\n",
       "       [20, 'Team Fortress Classic', 'Valve', ..., 'Action', 87,\n",
       "        '{\\'Action\\': 208, \\'FPS\\': 188, \\'Multiplayer\\': 172, \\'Classic\\': 152, \\'Shooter\\': 134, \\'Class-Based\\': 124, \\'Team-Based\\': 115, \\'First-Person\\': 109, \"1990\\'s\": 71, \\'Co-op\\': 62, \\'Competitive\\': 48, \\'Old School\\': 46, \\'Fast-Paced\\': 39, \\'Online Co-Op\\': 28, \\'Retro\\': 27, \\'Remake\\': 27, \\'Violent\\': 26, \\'Mod\\': 24, \\'Funny\\': 20, \\'Adventure\\': 15}'],\n",
       "       [30, 'Day of Defeat', 'Valve', ..., 'Action', 130,\n",
       "        \"{'FPS': 138, 'World War II': 122, 'Multiplayer': 115, 'Action': 99, 'Shooter': 95, 'War': 80, 'Team-Based': 79, 'Classic': 61, 'Class-Based': 55, 'First-Person': 50, 'Historical': 28, 'Military': 19, 'Singleplayer': 16, 'Tactical': 14, 'Co-op': 12, 'World War I': 5}\"],\n",
       "       ...,\n",
       "       [1065650, 'Super Star Blast', 'EntwicklerX', ...,\n",
       "        'Action, Casual, Indie', 0,\n",
       "        \"{'Action': 21, 'Indie': 21, 'Casual': 21}\"],\n",
       "       [1066700, 'New Yankee 7: Deer Hunters', 'Yustas Game Studio', ...,\n",
       "        'Adventure, Casual, Indie', 1,\n",
       "        \"{'Indie': 21, 'Casual': 21, 'Adventure': 20}\"],\n",
       "       [1069460, 'Rune Lord', 'Adept Studios GD', ...,\n",
       "        'Adventure, Casual, Indie', 4,\n",
       "        \"{'Indie': 21, 'Casual': 21, 'Adventure': 20}\"]], dtype=object)"
      ]
     },
     "execution_count": 25,
     "metadata": {},
     "output_type": "execute_result"
    }
   ],
   "source": [
    "data.values"
   ]
  },
  {
   "cell_type": "code",
   "execution_count": 26,
   "metadata": {},
   "outputs": [
    {
     "name": "stdout",
     "output_type": "stream",
     "text": [
      "<class 'pandas.core.frame.DataFrame'>\n",
      "RangeIndex: 29235 entries, 0 to 29234\n",
      "Data columns (total 20 columns):\n",
      " #   Column           Non-Null Count  Dtype  \n",
      "---  ------           --------------  -----  \n",
      " 0   appid            29235 non-null  int64  \n",
      " 1   name             29230 non-null  object \n",
      " 2   developer        29037 non-null  object \n",
      " 3   publisher        28939 non-null  object \n",
      " 4   score_rank       58 non-null     float64\n",
      " 5   positive         29235 non-null  int64  \n",
      " 6   negative         29235 non-null  int64  \n",
      " 7   userscore        29235 non-null  int64  \n",
      " 8   owners           29235 non-null  object \n",
      " 9   average_forever  29235 non-null  int64  \n",
      " 10  average_2weeks   29235 non-null  int64  \n",
      " 11  median_forever   29235 non-null  int64  \n",
      " 12  median_2weeks    29235 non-null  int64  \n",
      " 13  price            29206 non-null  float64\n",
      " 14  initialprice     29213 non-null  float64\n",
      " 15  discount         29213 non-null  float64\n",
      " 16  languages        29141 non-null  object \n",
      " 17  genre            29083 non-null  object \n",
      " 18  ccu              29235 non-null  int64  \n",
      " 19  tags             29235 non-null  object \n",
      "dtypes: float64(4), int64(9), object(7)\n",
      "memory usage: 4.5+ MB\n"
     ]
    }
   ],
   "source": [
    "# Shows info about our columns\n",
    "data.info()"
   ]
  },
  {
   "cell_type": "code",
   "execution_count": 27,
   "metadata": {},
   "outputs": [],
   "source": [
    "# Deletes median_2weeks, average_2weeks and userscore\n",
    "del data['median_2weeks']\n",
    "del data['average_2weeks']\n",
    "del data['userscore']"
   ]
  },
  {
   "cell_type": "code",
   "execution_count": 28,
   "metadata": {},
   "outputs": [
    {
     "name": "stdout",
     "output_type": "stream",
     "text": [
      "The percent of data missing is: 6.035271984627612 %\n",
      "Amount of non null columns:  58\n"
     ]
    }
   ],
   "source": [
    "# Prints the percentage of missing data\n",
    "missing_count = data.isnull().sum()\n",
    "\n",
    "total_data=np.product(data.shape)\n",
    "total_missing=missing_count.sum()\n",
    "per_of_missing_data=(total_missing/total_data)* 100\n",
    "print(\"The percent of data missing is:\" ,per_of_missing_data,\"%\")\n",
    "\n",
    "\n",
    "# Checks the non null values in column score_rank\n",
    "NotNullValues = data[\"score_rank\"].notnull()\n",
    "ColumnSR = data.loc[NotNullValues,\"score_rank\"]\n",
    "print(\"Amount of non null columns: \", len(ColumnSR))\n",
    "# Deletes score rank column\n",
    "del data['score_rank']"
   ]
  },
  {
   "cell_type": "code",
   "execution_count": 29,
   "metadata": {},
   "outputs": [
    {
     "data": {
      "text/plain": [
       "0        False\n",
       "1        False\n",
       "2        False\n",
       "3        False\n",
       "4        False\n",
       "         ...  \n",
       "29230    False\n",
       "29231    False\n",
       "29232    False\n",
       "29233    False\n",
       "29234    False\n",
       "Length: 29235, dtype: bool"
      ]
     },
     "execution_count": 29,
     "metadata": {},
     "output_type": "execute_result"
    }
   ],
   "source": [
    "#Checks for duplicate data\n",
    "dups = data.duplicated()\n",
    "dups"
   ]
  },
  {
   "cell_type": "code",
   "execution_count": 30,
   "metadata": {},
   "outputs": [
    {
     "name": "stdout",
     "output_type": "stream",
     "text": [
      "Number of duplicate rows: 0\n"
     ]
    }
   ],
   "source": [
    "# Prints number of duplicate rows\n",
    "duplicates = data.duplicated()\n",
    "num_duplicates = duplicates.sum()\n",
    "print(f\"Number of duplicate rows: {num_duplicates}\")"
   ]
  },
  {
   "cell_type": "markdown",
   "metadata": {},
   "source": [
    "# Nominal Attribute\n",
    "# Selected 'name', 'developer', 'publisher', 'genre', 'languages' as nominal attributes.\n",
    "# These columns represent categorical information without a specific order, essential for categorization and grouping."
   ]
  },
  {
   "cell_type": "code",
   "execution_count": 31,
   "metadata": {},
   "outputs": [
    {
     "name": "stdout",
     "output_type": "stream",
     "text": [
      "Nominal Attributes:\n",
      "                             name           developer             publisher  \\\n",
      "0                  Counter-Strike               Valve                 Valve   \n",
      "1           Team Fortress Classic               Valve                 Valve   \n",
      "2                   Day of Defeat               Valve                 Valve   \n",
      "3              Deathmatch Classic               Valve                 Valve   \n",
      "4       Half-Life: Opposing Force    Gearbox Software                 Valve   \n",
      "...                           ...                 ...                   ...   \n",
      "29230             Room of Pandora         SHEN JIAWEI           SHEN JIAWEI   \n",
      "29231                   Cyber Gun      Semyon Maximov      BekkerDev Studio   \n",
      "29232            Super Star Blast         EntwicklerX           EntwicklerX   \n",
      "29233  New Yankee 7: Deer Hunters  Yustas Game Studio  Alawar Entertainment   \n",
      "29234                   Rune Lord    Adept Studios GD  Alawar Entertainment   \n",
      "\n",
      "                          genre  \\\n",
      "0                        Action   \n",
      "1                        Action   \n",
      "2                        Action   \n",
      "3                        Action   \n",
      "4                        Action   \n",
      "...                         ...   \n",
      "29230  Adventure, Casual, Indie   \n",
      "29231  Action, Adventure, Indie   \n",
      "29232     Action, Casual, Indie   \n",
      "29233  Adventure, Casual, Indie   \n",
      "29234  Adventure, Casual, Indie   \n",
      "\n",
      "                                               languages  \n",
      "0      English, French, German, Italian, Spanish - Sp...  \n",
      "1      English, French, German, Italian, Spanish - Sp...  \n",
      "2      English, French, German, Italian, Spanish - Spain  \n",
      "3      English, French, German, Italian, Spanish - Sp...  \n",
      "4                        English, French, German, Korean  \n",
      "...                                                  ...  \n",
      "29230  English, Japanese, Simplified Chinese, Traditi...  \n",
      "29231                                            English  \n",
      "29232                                            English  \n",
      "29233                   English, German, Korean, Russian  \n",
      "29234  English, French, Italian, German, Spanish - Sp...  \n",
      "\n",
      "[29235 rows x 5 columns]\n"
     ]
    }
   ],
   "source": [
    "# Assuming 'name', 'developer', 'publisher', 'genre', 'languages' columns are nominal attributes\n",
    "nominal_attributes_values = data[['name', 'developer', 'publisher', 'genre', 'languages']]\n",
    "print(\"Nominal Attributes:\")\n",
    "print(nominal_attributes_values)"
   ]
  },
  {
   "cell_type": "markdown",
   "metadata": {},
   "source": [
    "# Binary Attribute\n",
    "# 'price' is selected for 'free_game' as it follows industry standards, where a price of 0 indicates a free game. \n",
    "# This simplifies the classification, aiding in analyzing game pricing trends and user preferences."
   ]
  },
  {
   "cell_type": "code",
   "execution_count": 32,
   "metadata": {},
   "outputs": [
    {
     "name": "stdout",
     "output_type": "stream",
     "text": [
      "Binary Attribute Unique Values:\n",
      "\n",
      "Number of Non-Free Games (Class 0): 25583\n",
      "Number of Free Games (Class 1): 3652\n"
     ]
    }
   ],
   "source": [
    "# Assuming 'price' column is used to create a binary attribute for free games\n",
    "data['free_game'] = data['price'].apply(lambda x: 1 if x == 0 else 0)\n",
    "\n",
    "# Print the unique values in the binary attribute\n",
    "unique_values = data['free_game'].unique()\n",
    "print(\"Binary Attribute Unique Values:\")\n",
    "\n",
    "# Count the number of free and non-free games\n",
    "free_game_counts = data['free_game'].value_counts()\n",
    "\n",
    "# Print the result\n",
    "print(\"\\nNumber of Non-Free Games (Class 0):\", free_game_counts[0])\n",
    "print(\"Number of Free Games (Class 1):\", free_game_counts[1])"
   ]
  },
  {
   "cell_type": "code",
   "execution_count": 33,
   "metadata": {},
   "outputs": [
    {
     "name": "stdout",
     "output_type": "stream",
     "text": [
      "Mean price: 777.8113743751284\n",
      "Median price: nan\n"
     ]
    }
   ],
   "source": [
    "# Extracts the \"price\" column\n",
    "price_column = data['price']\n",
    "\n",
    "# Calculates the mean and median of the price column\n",
    "mean_price = np.mean(price_column)\n",
    "median_price = np.median(price_column)\n",
    "\n",
    "print(\"Mean price:\", mean_price)\n",
    "print(\"Median price:\", median_price)\n"
   ]
  },
  {
   "cell_type": "code",
   "execution_count": 35,
   "metadata": {},
   "outputs": [
    {
     "name": "stdout",
     "output_type": "stream",
     "text": [
      "965.4788780571233\n",
      "23.0\n"
     ]
    }
   ],
   "source": [
    "# Extracts positive colummn\n",
    "positive_column = data['positive']\n",
    "\n",
    "#Calculates the mean and median of the positive review column\n",
    "mean_positive = np.mean(positive_column)\n",
    "median_positive = np.median(positive_column)\n",
    "\n",
    "print(\"Mean positive review:\", mean_positive)\n",
    "print(\"Median positive review:\", median_positive)"
   ]
  },
  {
   "cell_type": "code",
   "execution_count": null,
   "metadata": {},
   "outputs": [],
   "source": [
    "# Extracts positive colummn\n",
    "negative_column = data['negative']\n",
    "\n",
    "#Calculates the mean and median of the positive review column\n",
    "mean_negative = np.mean(negative_column)\n",
    "median_negative = np.median(negative_column)\n",
    "\n",
    "print(\"Mean negative review:\", negative_column)\n",
    "print(\"Median negative review:\", negative_column)"
   ]
  }
 ],
 "metadata": {
  "kernelspec": {
   "display_name": "Python 3",
   "language": "python",
   "name": "python3"
  },
  "language_info": {
   "codemirror_mode": {
    "name": "ipython",
    "version": 3
   },
   "file_extension": ".py",
   "mimetype": "text/x-python",
   "name": "python",
   "nbconvert_exporter": "python",
   "pygments_lexer": "ipython3",
   "version": "3.11.5"
  }
 },
 "nbformat": 4,
 "nbformat_minor": 2
}
