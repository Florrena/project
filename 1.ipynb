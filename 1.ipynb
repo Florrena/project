{
 "cells": [
  {
   "cell_type": "code",
   "execution_count": 5,
   "metadata": {},
   "outputs": [
    {
     "name": "stdout",
     "output_type": "stream",
     "text": [
      "amount of non null columns:  58\n",
      "562      100.0\n",
      "6257      95.0\n",
      "9570      97.0\n",
      "10906     95.0\n",
      "11865     96.0\n",
      "12571     94.0\n",
      "12990     97.0\n",
      "13167    100.0\n",
      "13732    100.0\n",
      "14294     94.0\n",
      "14435     98.0\n",
      "14811     94.0\n",
      "15940    100.0\n",
      "17390     96.0\n",
      "17563     97.0\n",
      "17564     96.0\n",
      "17565     96.0\n",
      "18681     94.0\n",
      "18765     96.0\n",
      "19157    100.0\n",
      "19279     97.0\n",
      "19635     93.0\n",
      "21655     96.0\n",
      "22884     94.0\n",
      "22930     98.0\n",
      "24459    100.0\n",
      "25272     97.0\n",
      "25437     96.0\n",
      "25642     96.0\n",
      "25694     95.0\n",
      "25823    100.0\n",
      "25898     96.0\n",
      "25927     99.0\n",
      "26071     97.0\n",
      "26077     98.0\n",
      "26173     94.0\n",
      "26259     98.0\n",
      "26267     97.0\n",
      "26280     98.0\n",
      "26311     95.0\n",
      "26312     97.0\n",
      "26313     96.0\n",
      "26495    100.0\n",
      "26539     97.0\n",
      "26564     98.0\n",
      "26828     95.0\n",
      "27132     98.0\n",
      "27208     99.0\n",
      "27212    100.0\n",
      "27234     97.0\n",
      "27335    100.0\n",
      "27355     95.0\n",
      "27557     97.0\n",
      "27740     99.0\n",
      "28055     95.0\n",
      "28267    100.0\n",
      "28455    100.0\n",
      "28505     96.0\n",
      "Name: score_rank, dtype: float64\n"
     ]
    }
   ],
   "source": [
    "import pandas as pd\n",
    "import numpy as np\n",
    "import matplotlib as plt\n",
    "\n",
    "#Imports our data files\n",
    "data = pd.read_csv(\"steamspy_data.csv\")\n",
    "data2 = pd.read_csv(\"app_list.csv\")\n",
    "\n",
    "#Check how big our data is (columns, rows)\n",
    "data.shape\n",
    "#Prints the first 5 entries of our data\n",
    "#data.head(5)\n",
    "\n",
    "# check the non null values in column score_rank\n",
    "b = data[\"score_rank\"].notnull()\n",
    "a = data.loc[b,\"score_rank\"]\n",
    "print(\"amount of non null columns: \", len(a))\n",
    "print(a)"
   ]
  }
 ],
 "metadata": {
  "kernelspec": {
   "display_name": "Python 3",
   "language": "python",
   "name": "python3"
  },
  "language_info": {
   "codemirror_mode": {
    "name": "ipython",
    "version": 3
   },
   "file_extension": ".py",
   "mimetype": "text/x-python",
   "name": "python",
   "nbconvert_exporter": "python",
   "pygments_lexer": "ipython3",
   "version": "3.8.2"
  }
 },
 "nbformat": 4,
 "nbformat_minor": 2
}
